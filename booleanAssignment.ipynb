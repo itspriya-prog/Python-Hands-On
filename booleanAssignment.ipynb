{
 "cells": [
  {
   "cell_type": "markdown",
   "id": "c51101e4-7805-418d-b114-fffb722fa788",
   "metadata": {},
   "source": [
    "# Q. Declare a boolean value and store it in a variable."
   ]
  },
  {
   "cell_type": "code",
   "execution_count": 2,
   "id": "43d6a871-d79a-4b58-9dd1-a97403e69f64",
   "metadata": {},
   "outputs": [
    {
     "name": "stdout",
     "output_type": "stream",
     "text": [
      "<class 'bool'>\n"
     ]
    }
   ],
   "source": [
    "boolVal = True\n",
    "print(type(boolVal))"
   ]
  },
  {
   "cell_type": "markdown",
   "id": "fc177a8d-ae19-4fef-ae17-6bccd4168473",
   "metadata": {},
   "source": [
    "# Q. Take one boolean value between 0 - 256.\r\n",
    "Assign it to two different variables.\n"
   ]
  },
  {
   "cell_type": "code",
   "execution_count": 5,
   "id": "a6df1bc3-c8e0-4d86-b923-78aa4dddc38e",
   "metadata": {},
   "outputs": [
    {
     "name": "stdout",
     "output_type": "stream",
     "text": [
      "140730096110144\n",
      "140730096110144\n"
     ]
    }
   ],
   "source": [
    "a = 10\n",
    "boolVal1 = bool(a)\n",
    "boolVal2 = bool(a)\n",
    "\n",
    "\n",
    "# Because of Object reusability id of the boolVal1 and boolVal2 would be same\n",
    "print(id(boolVal1))\n",
    "print(id(boolVal2))"
   ]
  },
  {
   "cell_type": "markdown",
   "id": "c62fdcc2-43b9-4140-99d6-1dd78c460b59",
   "metadata": {},
   "source": [
    "# Q. Arithmetic Operations on boolean data\r\n",
    "Take two different boolean values.\r\n",
    "Store them in two different variables."
   ]
  },
  {
   "cell_type": "code",
   "execution_count": 12,
   "id": "086a1557-f876-4021-a587-05f78c8e8ec1",
   "metadata": {},
   "outputs": [
    {
     "name": "stdout",
     "output_type": "stream",
     "text": [
      "1\n",
      "1\n",
      "0\n"
     ]
    },
    {
     "ename": "ZeroDivisionError",
     "evalue": "division by zero",
     "output_type": "error",
     "traceback": [
      "\u001b[1;31m---------------------------------------------------------------------------\u001b[0m",
      "\u001b[1;31mZeroDivisionError\u001b[0m                         Traceback (most recent call last)",
      "Cell \u001b[1;32mIn[12], line 15\u001b[0m\n\u001b[0;32m     12\u001b[0m \u001b[38;5;28mprint\u001b[39m(a\u001b[38;5;241m*\u001b[39mb)\n\u001b[0;32m     14\u001b[0m \u001b[38;5;66;03m#Find value after dividing first value with second value\u001b[39;00m\n\u001b[1;32m---> 15\u001b[0m \u001b[38;5;28mprint\u001b[39m(a\u001b[38;5;241m/\u001b[39mb)\n\u001b[0;32m     17\u001b[0m \u001b[38;5;66;03m# Find the remainder after dividing first value with second value\u001b[39;00m\n\u001b[0;32m     18\u001b[0m \u001b[38;5;28mprint\u001b[39m(a\u001b[38;5;241m%\u001b[39mb)\n",
      "\u001b[1;31mZeroDivisionError\u001b[0m: division by zero"
     ]
    }
   ],
   "source": [
    "# sum of two boolean values\n",
    "\n",
    "a=True \n",
    "b=False\n",
    "print(a+b)\n",
    "\n",
    "#Find difference between them\n",
    "\n",
    "print(a-b)\n",
    "\n",
    "# Find the product of both.\n",
    "print(a*b)\n",
    "\n",
    "#Find value after dividing first value with second value\n",
    "print(a/b)\n",
    "\n"
   ]
  },
  {
   "cell_type": "code",
   "execution_count": 13,
   "id": "c1daa1f8-fc31-4390-b7c7-930ed76d3726",
   "metadata": {},
   "outputs": [
    {
     "ename": "ZeroDivisionError",
     "evalue": "integer modulo by zero",
     "output_type": "error",
     "traceback": [
      "\u001b[1;31m---------------------------------------------------------------------------\u001b[0m",
      "\u001b[1;31mZeroDivisionError\u001b[0m                         Traceback (most recent call last)",
      "Cell \u001b[1;32mIn[13], line 2\u001b[0m\n\u001b[0;32m      1\u001b[0m \u001b[38;5;66;03m# Find the remainder after dividing first value with second value\u001b[39;00m\n\u001b[1;32m----> 2\u001b[0m \u001b[38;5;28mprint\u001b[39m(a\u001b[38;5;241m%\u001b[39mb)\n\u001b[0;32m      4\u001b[0m \u001b[38;5;66;03m# Find the result of first value to the power of second value.\u001b[39;00m\n\u001b[0;32m      5\u001b[0m \u001b[38;5;28mprint\u001b[39m(a\u001b[38;5;241m*\u001b[39mb)\n",
      "\u001b[1;31mZeroDivisionError\u001b[0m: integer modulo by zero"
     ]
    }
   ],
   "source": [
    "# Find the remainder after dividing first value with second value\n",
    "print(a%b)\n",
    "\n"
   ]
  },
  {
   "cell_type": "code",
   "execution_count": 14,
   "id": "6847f83b-6370-477a-a68f-5c7c13dbbd2a",
   "metadata": {},
   "outputs": [
    {
     "name": "stdout",
     "output_type": "stream",
     "text": [
      "0\n"
     ]
    }
   ],
   "source": [
    "# Find the result of first value to the power of second value.\n",
    "print(a*b)"
   ]
  },
  {
   "cell_type": "markdown",
   "id": "ede27bc3-8812-4d83-a4fa-2c0050856ede",
   "metadata": {},
   "source": [
    "# Q. Comparison Operators on boolean values\r\n",
    "Take two different boolean values.\r\n",
    "Store them in two different variables."
   ]
  },
  {
   "cell_type": "code",
   "execution_count": 17,
   "id": "fef025a9-8b74-463b-9dec-1d8b3bd8b6d4",
   "metadata": {},
   "outputs": [
    {
     "name": "stdout",
     "output_type": "stream",
     "text": [
      "True\n",
      "False\n",
      "True\n",
      "False\n"
     ]
    }
   ],
   "source": [
    "a = True\n",
    "b = False\n",
    "\n",
    "# Greater than, '>'\n",
    "print(a>b)\n",
    "\n",
    "# less than, '<'\n",
    "print(a<b)\n",
    "\n",
    "# Greater than or equal to, '>='\n",
    "print(a>=b)\n",
    "\n",
    "#Less than or equal to, '<='\n",
    "print(a<=b)"
   ]
  },
  {
   "cell_type": "markdown",
   "id": "3b848a47-cd83-423e-8ab0-a6a07014b1c7",
   "metadata": {},
   "source": [
    "# Q. Equality Operator\r\n",
    "Take two different boolean values.\r\n",
    "Store them in two different variables."
   ]
  },
  {
   "cell_type": "code",
   "execution_count": 19,
   "id": "0e3ff088-ac90-405a-98ca-d30af68a9c77",
   "metadata": {},
   "outputs": [
    {
     "name": "stdout",
     "output_type": "stream",
     "text": [
      "False\n",
      "True\n"
     ]
    }
   ],
   "source": [
    "a = True\n",
    "b = False\n",
    "\n",
    "print(a==b)\n",
    "\n",
    "print(a!=b)"
   ]
  },
  {
   "cell_type": "markdown",
   "id": "bbce4671-3f63-4924-b23f-d135ccd421a5",
   "metadata": {},
   "source": [
    "# Q. Logical operators\r\n",
    "Observe the output of below code"
   ]
  },
  {
   "cell_type": "code",
   "execution_count": 20,
   "id": "eaf49afa-75d1-4015-a305-59bff4753a77",
   "metadata": {},
   "outputs": [
    {
     "name": "stdout",
     "output_type": "stream",
     "text": [
      "True\n",
      "False\n",
      "False\n",
      "False\n",
      "False\n",
      "True\n",
      "True\n",
      "True\n",
      "False\n",
      "False\n",
      "True\n"
     ]
    }
   ],
   "source": [
    "print(True and True)\n",
    "\n",
    "print(False and True)\n",
    "\n",
    "print(True and False)\n",
    "\n",
    "print(True and False)\n",
    "\n",
    "print(False and False)\n",
    "#----------------------------------------->Output is False\n",
    "print(True or True)\n",
    "#----------------------------------------->Output is True\n",
    "print(False or True)\n",
    "#----------------------------------------->Output is True\n",
    "print(True or False)\n",
    "#----------------------------------------->Output is True\n",
    "print(False or False)\n",
    "#----------------------------------------->Output is False\n",
    "print(not True)\n",
    "#----------------------------------------->Output is False\n",
    "print(not False)\n",
    "#----------------------------------------->Output is True"
   ]
  },
  {
   "cell_type": "markdown",
   "id": "a9b62992-a416-42ca-b438-687e2ec3c602",
   "metadata": {},
   "source": [
    "# Q. Bitwise Operators\r\n",
    "Do below operations on the values provided below:-"
   ]
  },
  {
   "cell_type": "code",
   "execution_count": 26,
   "id": "cf299491-9f5c-4665-966f-b33f8b09561e",
   "metadata": {},
   "outputs": [
    {
     "name": "stdout",
     "output_type": "stream",
     "text": [
      "False\n",
      "True\n",
      "True\n",
      "-2\n",
      "4\n",
      "0\n"
     ]
    }
   ],
   "source": [
    "a = True\n",
    "b = False\n",
    "\n",
    "# Bitwise and(&)\n",
    "print(a&b)\n",
    "\n",
    "# Bitwise or(|)\n",
    "print(a|b)\n",
    "\n",
    "# Bitwise(^)\n",
    "print(a^b)\n",
    "\n",
    "# Bitwise negation(~)\n",
    "print(~a)\n",
    "\n",
    "# Bitwise left shift\n",
    "print(a<<2)\n",
    "\n",
    "# Bitwise right shift\n",
    "print(a>>2)\n"
   ]
  },
  {
   "cell_type": "markdown",
   "id": "74231a47-fcd2-4eb7-85ad-94265289f477",
   "metadata": {},
   "source": [
    "# Q. What is the output of expression inside the print statement. Cross\r\n",
    "check before running the program."
   ]
  },
  {
   "cell_type": "code",
   "execution_count": 29,
   "id": "0f66f1d8-4500-48f6-a5bb-f28f288339fd",
   "metadata": {},
   "outputs": [
    {
     "name": "stdout",
     "output_type": "stream",
     "text": [
      "True\n",
      "False\n"
     ]
    }
   ],
   "source": [
    "a = True\n",
    "b = True\n",
    "print(a is b)\n",
    "print(a is not b)\n",
    "\n"
   ]
  },
  {
   "cell_type": "code",
   "execution_count": 30,
   "id": "b1d82a72-0007-4f0c-b646-485a31a5cb82",
   "metadata": {},
   "outputs": [
    {
     "name": "stdout",
     "output_type": "stream",
     "text": [
      "True\n",
      "False\n"
     ]
    }
   ],
   "source": [
    "a = False\n",
    "b = False\n",
    "print(a is b)\n",
    "print(a is not b)"
   ]
  },
  {
   "cell_type": "markdown",
   "id": "23109976-e0c0-4cef-849c-e1119e11904f",
   "metadata": {},
   "source": [
    "# Q. Membership operation\r\n",
    "in, not in are two membership operators and it returns boolean value"
   ]
  },
  {
   "cell_type": "code",
   "execution_count": 31,
   "id": "57243bc1-acc3-4c34-8423-b140d14b9fcf",
   "metadata": {},
   "outputs": [
    {
     "name": "stdout",
     "output_type": "stream",
     "text": [
      "True\n",
      "True\n",
      "True\n",
      "True\n",
      "True\n"
     ]
    }
   ],
   "source": [
    "print(True in [10,10.20,10+20j,'Python', True])\n",
    "print(False in (10,10.20,10+20j,'Python', False))\n",
    "print(True in {1,2,3, True})\n",
    "print(True in {True:100, False:200, True:300})\n",
    "print(False in {True:100, False:200, True:300})"
   ]
  },
  {
   "cell_type": "code",
   "execution_count": null,
   "id": "a7323958-e86c-498e-b15d-893d73c0c7fd",
   "metadata": {},
   "outputs": [],
   "source": []
  }
 ],
 "metadata": {
  "kernelspec": {
   "display_name": "Python 3 (ipykernel)",
   "language": "python",
   "name": "python3"
  },
  "language_info": {
   "codemirror_mode": {
    "name": "ipython",
    "version": 3
   },
   "file_extension": ".py",
   "mimetype": "text/x-python",
   "name": "python",
   "nbconvert_exporter": "python",
   "pygments_lexer": "ipython3",
   "version": "3.11.7"
  }
 },
 "nbformat": 4,
 "nbformat_minor": 5
}
