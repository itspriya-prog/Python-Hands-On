{
 "cells": [
  {
   "cell_type": "markdown",
   "id": "c3d4b91d-fa14-4309-9a4c-486b227c88dc",
   "metadata": {},
   "source": [
    "# Q. Declare a complex number and store it in a variable.\r\n",
    "Check the type and print the id of the same."
   ]
  },
  {
   "cell_type": "code",
   "execution_count": 1,
   "id": "6d468c33-aca2-47d5-97d2-04beca65bbcd",
   "metadata": {},
   "outputs": [
    {
     "name": "stdout",
     "output_type": "stream",
     "text": [
      "1827593909072\n",
      "<class 'complex'>\n"
     ]
    }
   ],
   "source": [
    "compVariable = 5 + 4j\n",
    "print(id(compVariable))\n",
    "print(type(compVariable))"
   ]
  },
  {
   "cell_type": "markdown",
   "id": "bc22c5a3-0630-4f42-9f66-ce18893b0b29",
   "metadata": {},
   "source": [
    "# Q. Arithmetic Operations on complex number\n",
    "Take two different complex numbers.\n",
    "Store them in two different variables."
   ]
  },
  {
   "cell_type": "code",
   "execution_count": 2,
   "id": "552ffeb2-ff84-497e-97f1-290215836a97",
   "metadata": {},
   "outputs": [
    {
     "name": "stdout",
     "output_type": "stream",
     "text": [
      "*******sum**********\n",
      "(14+8j)\n",
      "*******Difference**********\n",
      "(-4+2j)\n",
      "*******Product**********\n",
      "(30+60j)\n",
      "*******Divide**********\n",
      "(0.6666666666666666+0.33333333333333337j)\n",
      "*******Power**********\n",
      "(3904896.1966553186+1515676.736309645j)\n"
     ]
    }
   ],
   "source": [
    "a = 5 + 5j\n",
    "b = 9 + 3j\n",
    "\n",
    "sum = a + b\n",
    "print(\"*******sum**********\")\n",
    "print(sum)\n",
    "\n",
    "# Find difference between them\n",
    "print(\"*******Difference**********\")\n",
    "diff = a - b\n",
    "print(diff)\n",
    "\n",
    "# Find the product of both numbers\n",
    "print(\"*******Product**********\")\n",
    "product = a * b\n",
    "print(product)\n",
    "\n",
    "# Find value after dividing first num with second number\n",
    "print(\"*******Divide**********\")\n",
    "div = a/b\n",
    "print(div)\n",
    "\n",
    "\n",
    "# Find the result of the first num to the power of the second number\n",
    "\n",
    "power = a**b\n",
    "print(\"*******Power**********\")\n",
    "print(power)\n",
    "\n"
   ]
  },
  {
   "cell_type": "markdown",
   "id": "3f134cee-bafc-4360-8a63-1cdc90fb12ef",
   "metadata": {},
   "source": [
    "# Q. Equality Operator\r\n",
    "Take two different complex numbers\r\n",
    "Store them in two different variables.\r\n",
    "Equate them using equality operators (==, !=)"
   ]
  },
  {
   "cell_type": "code",
   "execution_count": 4,
   "id": "7ec6e13f-346c-4ded-a571-0abf896a9027",
   "metadata": {},
   "outputs": [
    {
     "name": "stdout",
     "output_type": "stream",
     "text": [
      "***********Equality Operator (==)**********\n",
      "False\n",
      "***********Equality Operator (!=)**********\n",
      "True\n"
     ]
    }
   ],
   "source": [
    "a = 5 + 5j\n",
    "b = 9 + 3j\n",
    "\n",
    "print(\"***********Equality Operator (==)**********\")\n",
    "print(a==b)\n",
    "\n",
    "print(\"***********Equality Operator (!=)**********\")\n",
    "print(a!=b)"
   ]
  },
  {
   "cell_type": "markdown",
   "id": "aeff26b1-f37c-4d31-872b-38c1cec1c782",
   "metadata": {},
   "source": [
    "# Q. Logical operators\n",
    "Observe the output of below code\n",
    "Cross check the output manually"
   ]
  },
  {
   "cell_type": "code",
   "execution_count": 6,
   "id": "38ec0ea3-c217-48cc-86a8-6666d62e479f",
   "metadata": {},
   "outputs": [
    {
     "name": "stdout",
     "output_type": "stream",
     "text": [
      "*****and operator*******\n",
      "(20+30j)\n",
      "0j\n",
      "0j\n",
      "0j\n",
      "*****or operator*******\n",
      "(10+20j)\n",
      "(20+30j)\n",
      "(20+30j)\n",
      "0j\n",
      "*****not operator*******\n",
      "False\n",
      "True\n"
     ]
    }
   ],
   "source": [
    "print(\"*****and operator*******\")\n",
    "print(10+20j and 20+30j)\n",
    "print(0+0j and 20+30j)\n",
    "print(20+30j and 0+0j)\n",
    "print(0+0j and 0+0j)\n",
    "\n",
    "print(\"*****or operator*******\")\n",
    "print(10+20j or 20+30j)\n",
    "print(0+0j or 20+30j) \n",
    "print(20+30j or 0+0j)\n",
    "print(0+0j or 0+0j) \n",
    "\n",
    "print(\"*****not operator*******\")\n",
    "\n",
    "print(not 10+20j) \n",
    "print(not 0+0j) \n"
   ]
  },
  {
   "cell_type": "markdown",
   "id": "50c52c8f-498d-451b-973f-ab070976625e",
   "metadata": {},
   "source": [
    "# Q. What is the output of the expression inside the print statement.\r\n",
    "Cross check before running the program."
   ]
  },
  {
   "cell_type": "code",
   "execution_count": 7,
   "id": "6a12e8e8-6d9e-4e02-a7ab-a1e9f7021707",
   "metadata": {},
   "outputs": [
    {
     "name": "stdout",
     "output_type": "stream",
     "text": [
      "False\n",
      "True\n"
     ]
    }
   ],
   "source": [
    "a = 10+20j\n",
    "b = 10+20j\n",
    "print(a is b)\n",
    "print(a is not b) "
   ]
  },
  {
   "cell_type": "markdown",
   "id": "86adefbf-92a3-4289-883d-fc4ee9077b6f",
   "metadata": {},
   "source": [
    "# Q. Membership operation\n",
    "in, not in are two membership operators and it returns boolean value"
   ]
  },
  {
   "cell_type": "code",
   "execution_count": 8,
   "id": "0ade527b-6a7a-4886-8e27-c5238ae694ad",
   "metadata": {},
   "outputs": [
    {
     "name": "stdout",
     "output_type": "stream",
     "text": [
      "True\n",
      "True\n",
      "True\n",
      "True\n",
      "True\n",
      "True\n"
     ]
    }
   ],
   "source": [
    "print('2.7' in 'Python2.7.8') \n",
    "print(10+20j in [10,10.20,10+20j,'Python']) \n",
    "print(10+20j in (10,10.20,10+20j,'Python')) \n",
    "print(30+40j in {1,20.30,30+40j}) \n",
    "print(30+40j in {1:100, 2.3:200, 30+40j:300}) \n",
    "print(10 in range(20)) "
   ]
  },
  {
   "cell_type": "code",
   "execution_count": null,
   "id": "cf1ebfbb-c167-41d0-9ac7-d90c87781024",
   "metadata": {},
   "outputs": [],
   "source": []
  }
 ],
 "metadata": {
  "kernelspec": {
   "display_name": "Python 3 (ipykernel)",
   "language": "python",
   "name": "python3"
  },
  "language_info": {
   "codemirror_mode": {
    "name": "ipython",
    "version": 3
   },
   "file_extension": ".py",
   "mimetype": "text/x-python",
   "name": "python",
   "nbconvert_exporter": "python",
   "pygments_lexer": "ipython3",
   "version": "3.11.7"
  }
 },
 "nbformat": 4,
 "nbformat_minor": 5
}
