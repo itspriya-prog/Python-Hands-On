{
 "cells": [
  {
   "cell_type": "markdown",
   "id": "06fb6a68-48e0-4487-9c5b-2f6359c043d7",
   "metadata": {},
   "source": [
    "# Q. Declare an int value and store it in a variable.\n",
    "Check the type and print the id of the same."
   ]
  },
  {
   "cell_type": "code",
   "execution_count": 4,
   "id": "b5bbf6c4-fe6f-44c0-900c-84b00942be3d",
   "metadata": {},
   "outputs": [
    {
     "name": "stdout",
     "output_type": "stream",
     "text": [
      "<class 'int'>\n",
      "140718379222088\n"
     ]
    }
   ],
   "source": [
    "# Solution\n",
    "\n",
    "a = 10\n",
    "\n",
    "# type\n",
    "print(type(a))\n",
    "\n",
    "#id\n",
    "print(id(a))"
   ]
  },
  {
   "cell_type": "markdown",
   "id": "e7d971aa-b100-4f5f-b07c-75e49698c972",
   "metadata": {},
   "source": [
    "# Q. Take one int value between 0 - 256.\n",
    "Assign it to two different variables.\n",
    "Check the id of both the variables. It should come the same. Check why?"
   ]
  },
  {
   "cell_type": "code",
   "execution_count": 8,
   "id": "31910809-eccf-4043-a1ae-cb7d2fcbac60",
   "metadata": {},
   "outputs": [
    {
     "name": "stdout",
     "output_type": "stream",
     "text": [
      "140712705575240\n",
      "140712705575240\n"
     ]
    }
   ],
   "source": [
    "# solution\n",
    "\n",
    "a = 50\n",
    "b = 50\n",
    "\n",
    "print(id(a))\n",
    "print(id(b))\n",
    "\n",
    "# Reason : id of both the variables are same because of object reusability"
   ]
  },
  {
   "cell_type": "markdown",
   "id": "6b071094-c55a-413d-a0da-ef1f6bdd34ee",
   "metadata": {},
   "source": [
    "# Q Take one int value either less than -5 or greater than 256.\n",
    "Assign it to two different variables.\n",
    "Check the id of both the variables. It should come different.Check why?"
   ]
  },
  {
   "cell_type": "code",
   "execution_count": 9,
   "id": "c5b54dac-8e47-494d-a09e-9c3c03ebbb0d",
   "metadata": {},
   "outputs": [
    {
     "name": "stdout",
     "output_type": "stream",
     "text": [
      "2782548917072\n",
      "2782548915152\n"
     ]
    }
   ],
   "source": [
    "\n",
    "\n",
    "a = 300\n",
    "b = 300\n",
    "\n",
    "print(id(a))\n",
    "print(id(b))"
   ]
  },
  {
   "cell_type": "markdown",
   "id": "347e45e4-52a2-4d4b-aa22-cad37f416965",
   "metadata": {},
   "source": [
    "# Q. Arithmetic Operations on integers\n",
    "Take two different integer values.\n",
    "Store them in two different variables.\n",
    "Do below operations on them:-"
   ]
  },
  {
   "cell_type": "code",
   "execution_count": 10,
   "id": "1cff6eeb-c76b-45c8-a2f0-8c8b3155c594",
   "metadata": {},
   "outputs": [
    {
     "name": "stdout",
     "output_type": "stream",
     "text": [
      "*******sum**********\n",
      "5\n",
      "*******Difference**********\n",
      "1\n",
      "*******Product**********\n",
      "6\n",
      "*******Divide**********\n",
      "1.5\n",
      "*******Remainder**********\n",
      "1\n",
      "*******Quotient**********\n",
      "1.5\n",
      "*******Power**********\n",
      "9\n"
     ]
    }
   ],
   "source": [
    "# Find sum of both numbers\n",
    "a = 3\n",
    "b = 2\n",
    "sum = a+ b\n",
    "print(\"*******sum**********\")\n",
    "print(sum)\n",
    "\n",
    "# Find difference between them\n",
    "print(\"*******Difference**********\")\n",
    "diff = a - b\n",
    "print(diff)\n",
    "\n",
    "# Find the product of both numbers\n",
    "print(\"*******Product**********\")\n",
    "product = a * b\n",
    "print(product)\n",
    "\n",
    "# Find value after dividing first num with second number\n",
    "print(\"*******Divide**********\")\n",
    "div = a/b\n",
    "print(div)\n",
    "\n",
    "# Find the remainder after dividing first number with second number\n",
    "print(\"*******Remainder**********\")\n",
    "rem = a%b\n",
    "print(rem)\n",
    "\n",
    "# Find the quotient after dividing first number with second number\n",
    "print(\"*******Quotient**********\")\n",
    "print(div)\n",
    "\n",
    "# Find the result of the first num to the power of the second number\n",
    "\n",
    "power = a**b\n",
    "print(\"*******Power**********\")\n",
    "print(power)\n"
   ]
  },
  {
   "cell_type": "markdown",
   "id": "7c969308-dcd2-46f4-bcdc-1a4546f8d5a5",
   "metadata": {},
   "source": [
    "# Q. Comparison Operators on integers\n",
    "Take two different integer values.\r\n",
    "Store them in two different variables.\r\n",
    "Do below operations on themCompare se two numbers with below operator:-:-"
   ]
  },
  {
   "cell_type": "code",
   "execution_count": null,
   "id": "19b4380b-c884-400f-8c8d-429e55310061",
   "metadata": {},
   "outputs": [],
   "source": [
    " # Greater than, '>'\n",
    "\n",
    "\n",
    "a = 3\n",
    "b = 2\n",
    "\n",
    "print(\"*******Greater than, '>'**********\")\n",
    "print(a>b)\n",
    "\n",
    "print(\"*******Smaller than, '<'**********\")\n",
    "print(a<b)\n",
    "\n",
    "print(\"*******Greater than or equal to, '>='**********\")\n",
    "print(a>=b)\n",
    "\n",
    "print(\"*******Less than or equal to, '<='**********\")\n",
    "print(a<=b)"
   ]
  },
  {
   "cell_type": "markdown",
   "id": "715566c8-209e-4e0d-ac70-f65fb7d30f74",
   "metadata": {},
   "source": [
    "# Q. Equality Operator\n",
    "Take two different integer values.\r\n",
    "Store them in two different variables.\r\n",
    "Equate them using equality operators (==, !=)"
   ]
  },
  {
   "cell_type": "code",
   "execution_count": 8,
   "id": "9bb6f55b-93c2-4c67-a8cf-186546c04386",
   "metadata": {},
   "outputs": [
    {
     "name": "stdout",
     "output_type": "stream",
     "text": [
      "***********Equality Operator (==)**********\n",
      "True\n",
      "***********Equality Operator (!=)**********\n",
      "False\n"
     ]
    }
   ],
   "source": [
    "a = 4\n",
    "b = 4\n",
    "\n",
    "print(\"***********Equality Operator (==)**********\")\n",
    "print(a==b)\n",
    "\n",
    "print(\"***********Equality Operator (!=)**********\")\n",
    "print(a!=b)\n"
   ]
  },
  {
   "cell_type": "markdown",
   "id": "e1c23564-3d55-461b-a5c2-a9f880c184a6",
   "metadata": {},
   "source": [
    "# Q. Logical operators\n",
    "Observe the output of below code\r\n",
    "Cross check the output manually"
   ]
  },
  {
   "cell_type": "code",
   "execution_count": 18,
   "id": "a33bffd5-d998-4549-b51f-4752f4ff5b57",
   "metadata": {},
   "outputs": [
    {
     "name": "stdout",
     "output_type": "stream",
     "text": [
      "20\n",
      "0\n",
      "0\n",
      "0\n"
     ]
    }
   ],
   "source": [
    "# and operator\n",
    "print ( 10 and 20 )\n",
    "print ( 0 and 20 )\n",
    "print ( 20 and 0 )\n",
    "print ( 0 and 0 )\n"
   ]
  },
  {
   "cell_type": "code",
   "execution_count": 19,
   "id": "a922d4a0-515a-42e9-9e7f-668a83adbbc4",
   "metadata": {},
   "outputs": [
    {
     "name": "stdout",
     "output_type": "stream",
     "text": [
      "10\n",
      "20\n",
      "20\n",
      "0\n"
     ]
    }
   ],
   "source": [
    "# or operator\n",
    "print ( 10 or 20 )\n",
    "print ( 0 or 20 )\n",
    "print ( 20 or 0 )\n",
    "print ( 0 or 0 )"
   ]
  },
  {
   "cell_type": "code",
   "execution_count": 20,
   "id": "e92795a7-6d0b-425b-8da0-c84d85cf4135",
   "metadata": {},
   "outputs": [
    {
     "name": "stdout",
     "output_type": "stream",
     "text": [
      "False\n",
      "True\n"
     ]
    }
   ],
   "source": [
    "# not operator\n",
    "\n",
    "print ( not 10 )\n",
    "print ( not 0 )"
   ]
  },
  {
   "cell_type": "markdown",
   "id": "bc75c76f-d097-4792-9205-0300863afabb",
   "metadata": {},
   "source": [
    "# Q. Bitwise Operators\r\n",
    "Do below operations on the values provided below:-"
   ]
  },
  {
   "cell_type": "code",
   "execution_count": 27,
   "id": "0b995448-cc77-48f1-8a14-d84296112b3d",
   "metadata": {},
   "outputs": [
    {
     "name": "stdout",
     "output_type": "stream",
     "text": [
      "********* Bitwise and(&) **********\n",
      "0\n",
      "************Bitwise or(|) **********\n",
      "30\n",
      "**********Bitwise(^)**********\n",
      "30\n",
      "************Bitwise negation(~)************\n",
      "-11\n",
      "************Bitwise left shift************\n",
      "40\n",
      "************Bitwise Right shift************\n",
      "2\n"
     ]
    }
   ],
   "source": [
    "print(\"********* Bitwise and(&) **********\")\n",
    "print(10&20)\n",
    "\n",
    "print(\"************Bitwise or(|) **********\")\n",
    "print(10|20)\n",
    "\n",
    "print(\"**********Bitwise(^)**********\")\n",
    "print(10^20)\n",
    "\n",
    "print(\"************Bitwise negation(~)************\")\n",
    "print(~10)\n",
    "\n",
    "print(\"************Bitwise left shift************\")\n",
    "print(10<<2)\n",
    "\n",
    "print(\"************Bitwise Right shift************\")\n",
    "print(10>>2)\n",
    "\n",
    "\n",
    "\n",
    "      "
   ]
  },
  {
   "cell_type": "markdown",
   "id": "ee226bc1-ed4a-4e32-924d-ed5df5e568c4",
   "metadata": {},
   "source": [
    "# Q. What is the output of expression inside print statement."
   ]
  },
  {
   "cell_type": "code",
   "execution_count": 29,
   "id": "97ea73fc-9c84-4a7d-a34c-b5c4523150a8",
   "metadata": {},
   "outputs": [
    {
     "name": "stdout",
     "output_type": "stream",
     "text": [
      "True\n",
      "False\n"
     ]
    }
   ],
   "source": [
    "a = 10\n",
    "b = 10\n",
    "print(a is b) #True or False? \n",
    "# is operator checks where the address points to same location.In this example since the value of a and b are less than 255 hence a is b retunrs True\n",
    "print(a is not b)"
   ]
  },
  {
   "cell_type": "code",
   "execution_count": 30,
   "id": "00394f04-51d6-45cb-9681-6bc28ee4f49f",
   "metadata": {},
   "outputs": [
    {
     "name": "stdout",
     "output_type": "stream",
     "text": [
      "False\n",
      "True\n"
     ]
    }
   ],
   "source": [
    "a = 1000\n",
    "b = 1000\n",
    "print(a is b) #True or False? \n",
    "# value os  a and b is greater than 255\n",
    "print(a is not b)"
   ]
  },
  {
   "cell_type": "markdown",
   "id": "d285068e-beef-4304-a10c-683e1c2ee32d",
   "metadata": {},
   "source": [
    "# Q. What is the output of expression inside print statement. "
   ]
  },
  {
   "cell_type": "code",
   "execution_count": 31,
   "id": "2773af8b-9673-492f-9532-f77813b7c28f",
   "metadata": {},
   "outputs": [
    {
     "name": "stdout",
     "output_type": "stream",
     "text": [
      "20\n"
     ]
    }
   ],
   "source": [
    "print ( 10 +( 10 * 32 )// 2 ** 5 & 20 +(~( -10 ))<< 2 )"
   ]
  },
  {
   "cell_type": "markdown",
   "id": "251f6eca-8a32-4ac8-9719-899f70fe2860",
   "metadata": {},
   "source": [
    "# Q. Membership operation\r\n",
    "in, not in are two membership operators and it returns boolean value"
   ]
  },
  {
   "cell_type": "code",
   "execution_count": 32,
   "id": "5b756c6c-ca67-42cc-a8e4-13cbb2bc09b6",
   "metadata": {},
   "outputs": [
    {
     "name": "stdout",
     "output_type": "stream",
     "text": [
      "True\n",
      "True\n",
      "True\n",
      "True\n",
      "True\n",
      "True\n"
     ]
    }
   ],
   "source": [
    "print ( '2' in 'Python2.7.8' )\n",
    "print ( 10 in [ 10 , 10.20 , 10 + 20j , 'Python' ])\n",
    "print ( 10 in ( 10 , 10.20 , 10 + 20j , 'Python' ))\n",
    "print ( 2 in { 1 , 2 , 3 })\n",
    "print ( 3 in { 1 : 100 , 2 : 200 , 3 : 300 })\n",
    "print ( 10 in range ( 20 ))"
   ]
  },
  {
   "cell_type": "markdown",
   "id": "1cfb378f-d59e-4d99-a465-a6a5a3405a66",
   "metadata": {},
   "source": [
    "# Q. An integer can be represented in binary, octal or hexadecimal form.\r\n",
    "Declare one binary, one octal and one hexadecimal value and store them\r\n",
    "in three different variables.\r\n",
    "Convert 9876 to its binary, octal and hexadecimal equivalent and print\r\n",
    "their corresponding value."
   ]
  },
  {
   "cell_type": "markdown",
   "id": "7d77ff24-e609-40a5-b068-fd9cea852a6f",
   "metadata": {},
   "source": [
    "# Q. What will be the output of following:-"
   ]
  },
  {
   "cell_type": "code",
   "execution_count": 3,
   "id": "1ffcb1bc-2889-46de-8cf5-b2c577428983",
   "metadata": {},
   "outputs": [
    {
     "name": "stdout",
     "output_type": "stream",
     "text": [
      "80\n",
      "3870\n",
      "64222\n",
      "0b1010000\n",
      "0o7436\n",
      "0xfade\n",
      "0b1010000\n",
      "0b1111101011011110\n",
      "0o175336\n",
      "0o7436\n",
      "0x50\n",
      "0xfade\n"
     ]
    }
   ],
   "source": [
    "a = 0b1010000\n",
    "print (a)\n",
    "b = 0o7436\n",
    "print (b)\n",
    "c = 0xfade\n",
    "print (c)\n",
    "print ( bin ( 80 ))\n",
    "print(oct(3870))\n",
    "print(hex(64222))\n",
    "print(bin(0b1010000))\n",
    "print(bin(0xfade))\n",
    "print(oct(0xfade))\n",
    "print(oct(0o7436))\n",
    "print(hex(0b1010000))\n",
    "print(hex(0xfade))"
   ]
  },
  {
   "cell_type": "code",
   "execution_count": null,
   "id": "c0f8596e-2571-43a4-8d98-3411d8d46df8",
   "metadata": {},
   "outputs": [],
   "source": []
  }
 ],
 "metadata": {
  "kernelspec": {
   "display_name": "Python 3 (ipykernel)",
   "language": "python",
   "name": "python3"
  },
  "language_info": {
   "codemirror_mode": {
    "name": "ipython",
    "version": 3
   },
   "file_extension": ".py",
   "mimetype": "text/x-python",
   "name": "python",
   "nbconvert_exporter": "python",
   "pygments_lexer": "ipython3",
   "version": "3.11.7"
  }
 },
 "nbformat": 4,
 "nbformat_minor": 5
}
