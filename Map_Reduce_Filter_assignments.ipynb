{
 "cells": [
  {
   "cell_type": "markdown",
   "metadata": {},
   "source": [
    "# Write a Python program to triple all numbers of a given list of integers. Use Python map\n",
    "\n"
   ]
  },
  {
   "cell_type": "code",
   "execution_count": 1,
   "metadata": {},
   "outputs": [
    {
     "data": {
      "text/plain": [
       "[9, 12, 15, 18, 21]"
      ]
     },
     "execution_count": 1,
     "metadata": {},
     "output_type": "execute_result"
    }
   ],
   "source": [
    "def triple(num):\n",
    "    return num * 3\n",
    "\n",
    "lstnum = [3,4,5,6,7]\n",
    "list(map(triple,lstnum))"
   ]
  },
  {
   "cell_type": "markdown",
   "metadata": {},
   "source": [
    "# Write a Python program to add three given lists using Python map and lambda\n"
   ]
  },
  {
   "cell_type": "code",
   "execution_count": 2,
   "metadata": {},
   "outputs": [
    {
     "data": {
      "text/plain": [
       "[3, 6, 9, 12, 15]"
      ]
     },
     "execution_count": 2,
     "metadata": {},
     "output_type": "execute_result"
    }
   ],
   "source": [
    "\n",
    "lstnum1 = [1,2,3,4,5]\n",
    "lstnum2 = [1,2,3,4,5]\n",
    "lstnum3 = [1,2,3,4,5]\n",
    "\n",
    "list(map(lambda i,j,k:i+j+k,lstnum1,lstnum2,lstnum3))"
   ]
  },
  {
   "cell_type": "code",
   "execution_count": 3,
   "metadata": {},
   "outputs": [
    {
     "name": "stdout",
     "output_type": "stream",
     "text": [
      "[(6, 6), (6, 4), (10, -4), (16, 2)]\n"
     ]
    }
   ],
   "source": [
    "# Write a Python program to add two given lists and find the difference between lists\n",
    "\n",
    "\"\"\"\n",
    "sample list\n",
    "nums1 = [6, 5, 3, 9]\n",
    "nums2 = [0, 1, 7, 7]\n",
    "\n",
    "\n",
    "output  - [(6, 6), (6, 4), (10, -4), (16, 2)]\n",
    "\n",
    "\"\"\"\n",
    "nums1 = [6, 5, 3, 9]\n",
    "nums2 = [0, 1, 7, 7]\n",
    "\n",
    "list1 = list(map(lambda i,j:i+j,nums1,nums2))\n",
    "list2 = list(map(lambda i,j:i-j,nums1,nums2))\n",
    "result = list(zip(list1,list2))\n",
    "print(result)"
   ]
  },
  {
   "cell_type": "code",
   "execution_count": 4,
   "metadata": {},
   "outputs": [
    {
     "name": "stdout",
     "output_type": "stream",
     "text": [
      "['a', 'b', 'c', 's', 'e', 'f']\n"
     ]
    }
   ],
   "source": [
    "# Write a Python program to convert all the characters in uppercase and lowercase and eliminate duplicate letters from a given sequence\n",
    "\n",
    "unique_elements = set()\n",
    "lst_char = ['A','B','C','A','S','E','E','F']\n",
    "\n",
    "new_list = list(map(lambda ch: ch.lower(),lst_char))\n",
    "\n",
    "unique_list = list(filter(lambda x: x not in unique_elements and (unique_elements.add(x) or True), new_list))\n",
    "\n",
    "print(unique_list)\n",
    "\n",
    "\n",
    "\n",
    "\n",
    "\n"
   ]
  },
  {
   "cell_type": "code",
   "execution_count": 5,
   "metadata": {},
   "outputs": [
    {
     "name": "stdout",
     "output_type": "stream",
     "text": [
      "['Apple', 'Avacado']\n"
     ]
    }
   ],
   "source": [
    "# Filter out the fruits that start with A \n",
    "\n",
    "lst_fruits = ['Apple' , 'Orange','Pineapple','Avacado','Kiwi']\n",
    "fruits_a = []\n",
    "\n",
    "list(filter(lambda fruit: fruit[0]=='A' and (fruits_a.append(fruit) or True) , lst_fruits))\n",
    "print(fruits_a)"
   ]
  },
  {
   "cell_type": "code",
   "execution_count": 6,
   "metadata": {},
   "outputs": [
    {
     "name": "stdout",
     "output_type": "stream",
     "text": [
      "[4, 5, 6, 7, 45, 67]\n"
     ]
    }
   ],
   "source": [
    "# Filter out the positve number from a list\n",
    "\n",
    "lst_numbers = [-1,4,5,6,7,-10,-99,45,67]\n",
    "lst_pos = []\n",
    "\n",
    "list(filter(lambda number: number > 0 and (lst_pos.append(number) or True) , lst_numbers))\n",
    "print(lst_pos)"
   ]
  },
  {
   "cell_type": "code",
   "execution_count": 7,
   "metadata": {},
   "outputs": [
    {
     "name": "stdout",
     "output_type": "stream",
     "text": [
      "[45, 15, 90]\n"
     ]
    }
   ],
   "source": [
    "# filter out the multiples of 3 and 5 from a list\n",
    "lst_numbers = [45,3,5,10,15,90,27]\n",
    "lst_pos = []\n",
    "\n",
    "list(filter(lambda number: (number % 3 == 0 and number % 5 == 0) and (lst_pos.append(number) or True) , lst_numbers))\n",
    "print(lst_pos)"
   ]
  },
  {
   "cell_type": "code",
   "execution_count": 12,
   "metadata": {},
   "outputs": [
    {
     "name": "stdout",
     "output_type": "stream",
     "text": [
      "The maximum string is: pineapple\n"
     ]
    }
   ],
   "source": [
    "# find the max string using reuduce function\n",
    "\n",
    "from functools import reduce\n",
    "# Define a list of strings\n",
    "strings = [\"apple\", \"banana\", \"grape\", \"pineapple\", \"pear\"]\n",
    "\n",
    "# Use reduce to find the maximum string\n",
    "max_string = reduce(lambda a, b: a if len(a) > len(b) else b, strings)\n",
    "\n",
    "print(\"The maximum string is:\", max_string)"
   ]
  },
  {
   "cell_type": "code",
   "execution_count": 13,
   "metadata": {},
   "outputs": [
    {
     "name": "stdout",
     "output_type": "stream",
     "text": [
      "Mean: 5.833333333333333\n",
      "Maximum: 10\n",
      "Minimum: 2\n"
     ]
    }
   ],
   "source": [
    "# find the mean , max and min of a given list using reduce function\n",
    "\n",
    "# Define a list of numbers\n",
    "numbers = [5, 8, 2, 10, 3, 7]\n",
    "\n",
    "# Find the sum of numbers using reduce\n",
    "total_sum = reduce(lambda a, b: a + b, numbers)\n",
    "\n",
    "# Calculate the mean\n",
    "mean = total_sum / len(numbers)\n",
    "\n",
    "# Find the maximum number using reduce\n",
    "maximum = reduce(lambda a, b: a if a > b else b, numbers)\n",
    "\n",
    "# Find the minimum number using reduce\n",
    "minimum = reduce(lambda a, b: a if a < b else b, numbers)\n",
    "\n",
    "print(\"Mean:\", mean)\n",
    "print(\"Maximum:\", maximum)\n",
    "print(\"Minimum:\", minimum)"
   ]
  },
  {
   "cell_type": "code",
   "execution_count": null,
   "metadata": {},
   "outputs": [],
   "source": []
  }
 ],
 "metadata": {
  "kernelspec": {
   "display_name": "Python 3 (ipykernel)",
   "language": "python",
   "name": "python3"
  },
  "language_info": {
   "codemirror_mode": {
    "name": "ipython",
    "version": 3
   },
   "file_extension": ".py",
   "mimetype": "text/x-python",
   "name": "python",
   "nbconvert_exporter": "python",
   "pygments_lexer": "ipython3",
   "version": "3.11.7"
  }
 },
 "nbformat": 4,
 "nbformat_minor": 4
}
