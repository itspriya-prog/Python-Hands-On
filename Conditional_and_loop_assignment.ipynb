{
 "cells": [
  {
   "cell_type": "markdown",
   "metadata": {
    "id": "wNRNTbrsc53d"
   },
   "source": [
    "# If - elif - else statement"
   ]
  },
  {
   "cell_type": "markdown",
   "metadata": {
    "id": "MiPfTnBycxNa"
   },
   "source": [
    "#W. A P. which takes one number from 0 to 9 from the user and prints it in the word. \n",
    "And if the word is not from 0 to 9 then it should print that number is outside of the range and program should exit.\n",
    "For exapmple:- \n",
    "input = 1\n",
    "output = one\n"
   ]
  },
  {
   "cell_type": "code",
   "execution_count": 1,
   "metadata": {},
   "outputs": [
    {
     "name": "stdin",
     "output_type": "stream",
     "text": [
      "Enter the number: 3\n"
     ]
    },
    {
     "name": "stdout",
     "output_type": "stream",
     "text": [
      "Three\n"
     ]
    }
   ],
   "source": [
    "def number_to_word(number):\n",
    "    # List mapping numbers to words\n",
    "    words = ['Zero', 'One', 'Two', 'Three', 'Four', 'Five', 'Six', 'Seven', 'Eight', 'Nine']\n",
    "    return words[number]\n",
    "\n",
    "number = input(\"Enter the number:\")\n",
    "print(number_to_word(int(number)))"
   ]
  },
  {
   "cell_type": "markdown",
   "metadata": {
    "id": "vEMNOv9zdA39"
   },
   "source": [
    "# W. A P. to implement calculator but the operation to be done and two numbers will be taken as input from user:-\n",
    "Operation console should show below:-\n",
    " Please select any one operation from below:-\n",
    "       * To add enter 1\n",
    "       * to subtract enter 2\n",
    "        * To multiply enter 3\n",
    "         * To divide enter 4\n",
    "       * To divide and find quotient enter 5\n",
    "         * To divide and find remainder enter 6\n",
    "         * To divide and find num1 to the power of num2 enter 7\n",
    "       * To Come out of the program enter 8\n",
    "\n",
    "\n",
    "\n"
   ]
  },
  {
   "cell_type": "code",
   "execution_count": 12,
   "metadata": {},
   "outputs": [
    {
     "name": "stdout",
     "output_type": "stream",
     "text": [
      " Please select any one operation from below:-\n",
      "* To add enter 1\n",
      "* to subtract enter 2\n",
      "* To multiply enter 3\n",
      "* To divide enter 4\n",
      "* To divide and find quotient enter 5\n",
      "* To divide and find remainder enter 6\n",
      "* To divide and find num1 to the power of num2 enter 7\n",
      "* To Come out of the program enter 8\n"
     ]
    },
    {
     "name": "stdin",
     "output_type": "stream",
     "text": [
      "Enter the operation to be performed: 2\n",
      "Please enter two numbers separated by comma: 3,4\n"
     ]
    },
    {
     "name": "stdout",
     "output_type": "stream",
     "text": [
      "-1\n"
     ]
    },
    {
     "name": "stdin",
     "output_type": "stream",
     "text": [
      "Enter the operation to be performed: 8\n"
     ]
    }
   ],
   "source": [
    "def calculate(num1, num2 , op_seq):   \n",
    "\n",
    "    if op_seq == \"1\":\n",
    "       return num1 + num2\n",
    "    elif op_seq == \"2\":\n",
    "       return(num1 - num2)           \n",
    "    elif op_seq == \"3\":\n",
    "        return num1 * num2\n",
    "    elif op_seq == \"4\" or op_seq == \"5\":\n",
    "       return num1/num2\n",
    "    elif op_seq == \"6\":\n",
    "        return num1 % num2\n",
    "    elif op_seq == \"7\":\n",
    "        return num1**num2\n",
    "\n",
    "\n",
    "print(\" Please select any one operation from below:-\")\n",
    "print(\"* To add enter 1\")\n",
    "print(\"* to subtract enter 2\")\n",
    "print(\"* To multiply enter 3\")\n",
    "print(\"* To divide enter 4\")\n",
    "print(\"* To divide and find quotient enter 5\")\n",
    "print(\"* To divide and find remainder enter 6\")\n",
    "print(\"* To divide and find num1 to the power of num2 enter 7\")\n",
    "print(\"* To Come out of the program enter 8\")\n",
    "\n",
    "while True:\n",
    "    op_value = input(\"Enter the operation to be performed:\")\n",
    "    if op_value == \"8\":\n",
    "        break\n",
    "    num_str = input(\"Please enter two numbers separated by comma:\")\n",
    "    \n",
    "    numList = num_str.split(\",\")\n",
    "    print(calculate(int(numList[0]) , int(numList[1]) , op_value))\n",
    "    \n",
    "\n",
    "    "
   ]
  },
  {
   "cell_type": "markdown",
   "metadata": {
    "id": "1e2gwYLqdC1s"
   },
   "source": [
    "# W A P to check whether a year entered by user is an leap year or not?\n",
    "Check with below input:-\n",
    "    leap year:- 2012, 1968, 2004, 1200, 1600,2400\n",
    "    Non-lear year:- 1971, 2006, 1700,1800,1900\n",
    "    \n"
   ]
  },
  {
   "cell_type": "code",
   "execution_count": 16,
   "metadata": {},
   "outputs": [
    {
     "name": "stdin",
     "output_type": "stream",
     "text": [
      "Enter the year: Enter Exit to end the task : 1971\n"
     ]
    },
    {
     "name": "stdout",
     "output_type": "stream",
     "text": [
      "Entered year is not Leap year\n"
     ]
    },
    {
     "name": "stdin",
     "output_type": "stream",
     "text": [
      "Enter the year: Enter Exit to end the task : 2012\n"
     ]
    },
    {
     "name": "stdout",
     "output_type": "stream",
     "text": [
      "Entered year is Leap year\n"
     ]
    },
    {
     "name": "stdin",
     "output_type": "stream",
     "text": [
      "Enter the year: Enter Exit to end the task : Exit\n"
     ]
    }
   ],
   "source": [
    "def is_leap_year(year):\n",
    "    if (year % 4 == 0):\n",
    "        if (year % 100 == 0):\n",
    "            if (year % 400 == 0):\n",
    "                return True\n",
    "            else:\n",
    "                return False\n",
    "        else:\n",
    "            return True\n",
    "    else:\n",
    "        return False\n",
    "\n",
    "while True:\n",
    "    year = input(\"Enter the year: Enter Exit to end the task :\")\n",
    "\n",
    "    if year == \"Exit\":\n",
    "        break\n",
    "    \n",
    "    is_leap = is_leap_year(int(year))\n",
    "    \n",
    "    if is_leap:\n",
    "        print(\"Entered year is Leap year\")\n",
    "    else:\n",
    "        print(\"Entered year is not Leap year\")"
   ]
  },
  {
   "cell_type": "markdown",
   "metadata": {
    "id": "_tpXv1EtdEre"
   },
   "source": [
    "# W A P which takes one number from the user and checks whether it is an even or odd number?, \n",
    "If it even then prints number is  even number else prints that number is odd number.\n",
    "\n"
   ]
  },
  {
   "cell_type": "code",
   "execution_count": 21,
   "metadata": {},
   "outputs": [
    {
     "name": "stdin",
     "output_type": "stream",
     "text": [
      "Enter the number: Enter 0 to end the task : 1\n"
     ]
    },
    {
     "name": "stdout",
     "output_type": "stream",
     "text": [
      "1 is an odd number.\n"
     ]
    },
    {
     "name": "stdin",
     "output_type": "stream",
     "text": [
      "Enter the number: Enter 0 to end the task : 12\n"
     ]
    },
    {
     "name": "stdout",
     "output_type": "stream",
     "text": [
      "12 is an even number.\n"
     ]
    },
    {
     "name": "stdin",
     "output_type": "stream",
     "text": [
      "Enter the number: Enter 0 to end the task : 0\n"
     ]
    }
   ],
   "source": [
    "def check_even_or_odd(number):\n",
    "    if number % 2 == 0:\n",
    "        return f\"{number} is an even number.\"\n",
    "    else:\n",
    "        return f\"{number} is an odd number.\"\n",
    "\n",
    "while True:\n",
    "    num = input(\"Enter the number: Enter 0 to end the task :\")\n",
    "\n",
    "    if num == \"0\":\n",
    "        break\n",
    "    result = check_even_or_odd(int(int(num)))\n",
    "    print(result)"
   ]
  },
  {
   "cell_type": "markdown",
   "metadata": {
    "id": "Q1HumymCdG6i"
   },
   "source": [
    "# W A P which takes two numbers from the user and prints below output:-\n",
    "1. num1 is greater than num2 if num1 is greater than num2\n",
    "2. num1 is smaller than num2 if num1 is smaller than num2\n",
    "3. num1 is equal to num2 if num1 and num2 are equal\n",
    "\n",
    "Note:- 1. Do this problem using if - else \n",
    "2. Do this using ternary operator\n",
    "\n"
   ]
  },
  {
   "cell_type": "code",
   "execution_count": 23,
   "metadata": {},
   "outputs": [
    {
     "name": "stdin",
     "output_type": "stream",
     "text": [
      "Enter the first number:  12\n",
      "Enter the second number:  12\n"
     ]
    },
    {
     "name": "stdout",
     "output_type": "stream",
     "text": [
      "12.0 is equal to 12.0\n"
     ]
    }
   ],
   "source": [
    "# If else\n",
    "num1 = float(input(\"Enter the first number: \"))\n",
    "num2 = float(input(\"Enter the second number: \"))\n",
    "\n",
    "# Comparing the two numbers and printing the appropriate message\n",
    "if num1 > num2:\n",
    "    print(f\"{num1} is greater than {num2}\")\n",
    "elif num1 < num2:\n",
    "    print(f\"{num1} is smaller than {num2}\")\n",
    "else:\n",
    "    print(f\"{num1} is equal to {num2}\")\n",
    "\n",
    "# ternary operator\n",
    "\n",
    "# Using a ternary operator to determine the message\n",
    "message = (f\"{num1} is greater than {num2}\" if num1 > num2 \n",
    "           else f\"{num1} is smaller than {num2}\" if num1 < num2 \n",
    "           else f\"{num1} is equal to {num2}\")"
   ]
  },
  {
   "cell_type": "markdown",
   "metadata": {
    "id": "LR6TVB-DdOPf"
   },
   "source": [
    "# W A P which takes three numbers from the user and prints below output:-\n",
    "1. num1 is greater than num2 and num3 if num1 is greater than num2 and num3\n",
    "2. num2 is greater than num1 and num3 if num2 is greater than num1 and num3\n",
    "3. num3 is greater than num1 and num2 if num3 is greater than num1 and num2\n",
    " \n",
    "#Note:- 1. Do this problem using if - elif - else \n",
    " 2. Do this using ternary operator\n",
    "\n",
    "\n",
    "\n"
   ]
  },
  {
   "cell_type": "code",
   "execution_count": 34,
   "metadata": {},
   "outputs": [
    {
     "name": "stdin",
     "output_type": "stream",
     "text": [
      "Enter the first number (num1):  12\n",
      "Enter the second number (num2):  3\n",
      "Enter the third number (num3):  600\n"
     ]
    },
    {
     "name": "stdout",
     "output_type": "stream",
     "text": [
      "num3 is greater than num1 and num2\n",
      "num3 is greater than num1 and num2\n"
     ]
    }
   ],
   "source": [
    "# Take three numbers as input from the user - if-else\n",
    "\n",
    "# Take three numbers as input from the user\n",
    "num1 = float(input(\"Enter the first number (num1): \"))\n",
    "num2 = float(input(\"Enter the second number (num2): \"))\n",
    "num3 = float(input(\"Enter the third number (num3): \"))\n",
    "\n",
    "# Compare the numbers and print the appropriate message\n",
    "if num1 > num2 and num1 > num3:\n",
    "    print(\"num1 is greater than num2 and num3\")\n",
    "elif num2 > num1 and num2 > num3:\n",
    "    print(\"num2 is greater than num1 and num3\")\n",
    "elif num3 > num1 and num3 > num2:\n",
    "    print(\"num3 is greater than num1 and num2\")\n",
    "else:\n",
    "    print(\"No single number is greater than the other two numbers\")\n",
    "\n",
    "# Determine which number is the greatest using ternary operators\n",
    "result = (\"num1 is greater than num2 and num3\" if num1 > num2 and num1 > num3 else\n",
    "          \"num2 is greater than num1 and num3\" if num2 > num1 and num2 > num3 else\n",
    "          \"num3 is greater than num1 and num2\" if num3 > num1 and num3 > num2 else\n",
    "          \"No single number is greater than the other two numbers\")\n",
    "print(result)"
   ]
  },
  {
   "cell_type": "markdown",
   "metadata": {
    "id": "IoOLQMUGdSox"
   },
   "source": [
    "# Loops - for loop, while loop"
   ]
  },
  {
   "cell_type": "markdown",
   "metadata": {
    "id": "9K23Uld8dQfA"
   },
   "source": [
    "# Write a Python program to find the length of the my_str using loop:-\n",
    "\n",
    "#Input:- 'Write a Python program to find the length of the my_str'\n",
    "#Output:- 55\n"
   ]
  },
  {
   "cell_type": "code",
   "execution_count": 2,
   "metadata": {},
   "outputs": [
    {
     "name": "stdin",
     "output_type": "stream",
     "text": [
      "Enter the string: priya\n"
     ]
    },
    {
     "name": "stdout",
     "output_type": "stream",
     "text": [
      "Length of the string : 5\n"
     ]
    }
   ],
   "source": [
    "str_value = input(\"Enter the string:\")\n",
    "\n",
    "count = 0;\n",
    "for ch in str_value:\n",
    "    count = count + 1\n",
    "\n",
    "result = str(count)\n",
    "print(\"Length of the string : \" + result)"
   ]
  },
  {
   "cell_type": "code",
   "execution_count": 3,
   "metadata": {
    "id": "bp6AcqTsdYxy"
   },
   "outputs": [
    {
     "name": "stdout",
     "output_type": "stream",
     "text": [
      "9\n"
     ]
    }
   ],
   "source": [
    "#Write a Python program to find the total number of times letter 'p' is appeared in the below string using loop:-\n",
    "    \n",
    "#Input:- 'peter piper picked a peck of pickled peppers.\\n'\n",
    "#Output:- 9\n",
    "\n",
    "my_str =   'peter piper picked a peck of pickled peppers.' \n",
    "print(my_str.count('p'))\n"
   ]
  },
  {
   "cell_type": "code",
   "execution_count": 8,
   "metadata": {
    "id": "xvxSBhTJdav1"
   },
   "outputs": [
    {
     "name": "stdout",
     "output_type": "stream",
     "text": [
      "[0, 6, 8, 12, 21, 29, 37, 39, 40]\n"
     ]
    }
   ],
   "source": [
    "#Write a Python Program, to print all the indexes of all occurences of letter 'p' appeared in the string using loop:-\n",
    "    \n",
    "input =  'peter piper picked a peck of pickled peppers.'\n",
    "#Output:- \n",
    "# 0\n",
    "# 6\n",
    "# 8\n",
    "# 12\n",
    "# 21\n",
    "# 29\n",
    "# 37\n",
    "# 39\n",
    "# 40\n",
    "\n",
    "lstIndx = []\n",
    "\n",
    "for i in range(len(input)):\n",
    "    if input[i] == 'p':\n",
    "        lstIndx.append(i)\n",
    "\n",
    "print(lstIndx)\n"
   ]
  },
  {
   "cell_type": "code",
   "execution_count": 9,
   "metadata": {
    "id": "79L_feMadbmw"
   },
   "outputs": [
    {
     "name": "stdout",
     "output_type": "stream",
     "text": [
      "['peter', 'piper', 'picked', 'a', 'peck', 'of', 'pickled', 'peppers.']\n"
     ]
    }
   ],
   "source": [
    "#Write a python program to find below output using loop:-\n",
    "\n",
    "input = 'peter piper picked a peck of pickled peppers.'\n",
    "#Output:- ['peter', 'piper', 'picked', 'a', 'peck', 'of', 'pickled', 'peppers']\n",
    "\n",
    "lstwords = input.split(\" \")\n",
    "\n",
    "print(lstwords)"
   ]
  },
  {
   "cell_type": "code",
   "execution_count": 14,
   "metadata": {
    "id": "vzs5AJ53deVS"
   },
   "outputs": [
    {
     "name": "stdout",
     "output_type": "stream",
     "text": [
      " peppers. pickled of peck a picked piper peter\n"
     ]
    }
   ],
   "source": [
    "#Write a python program to find below output using loop:-\n",
    "\n",
    "input =  'peter piper picked a peck of pickled peppers.'\n",
    "#Output:- 'peppers pickled of peck a picked piper peter'\n",
    "\n",
    "words = input.split(\" \")\n",
    "lstwords = []\n",
    "reversed_str = \"\"\n",
    "\n",
    "for word in reversed(words):\n",
    "    reversed_str = reversed_str + \" \" + word\n",
    "\n",
    "print(reversed_str)\n",
    "    \n",
    "\n",
    "\n"
   ]
  },
  {
   "cell_type": "code",
   "execution_count": 21,
   "metadata": {
    "id": "i-HP7DrCdhwS"
   },
   "outputs": [
    {
     "name": "stdout",
     "output_type": "stream",
     "text": [
      ".sreppep delkcip fo kcep a dekcip repip retep\n"
     ]
    }
   ],
   "source": [
    "#Write a python program to find below output using loop:-\n",
    "\n",
    "input = 'peter piper picked a peck of pickled peppers.'\n",
    "#Output:- '.sreppep delkcip fo kcep a dekcip repip retep'\n",
    "reverse_Str = \"\"\n",
    "for i in range(len(input) - 1, -1, -1):\n",
    "    reverse_Str = reverse_Str + input[i]\n",
    "\n",
    "print(reverse_Str)\n",
    "\n"
   ]
  },
  {
   "cell_type": "code",
   "execution_count": 24,
   "metadata": {
    "id": "3rt6p0ytdkq0"
   },
   "outputs": [
    {
     "name": "stdout",
     "output_type": "stream",
     "text": [
      "retep repip dekcip a kcep fo delkcip .sreppep \n"
     ]
    }
   ],
   "source": [
    "#Write a python program to find below output using loop:-\n",
    "\n",
    "input =  'peter piper picked a peck of pickled peppers.'\n",
    "#Output:- 'retep repip dekcip a kcep fo delkcip sreppep'\n",
    "\n",
    "\n",
    "my_str = 'peter piper picked a peck of pickled peppers.'\n",
    "\n",
    "list_str = my_str.split(' ')\n",
    "new_str = \"\"\n",
    "for i in list_str:\n",
    "    new_str = new_str + i[::-1] + \" \"\n",
    "print(new_str)"
   ]
  },
  {
   "cell_type": "code",
   "execution_count": 27,
   "metadata": {},
   "outputs": [
    {
     "name": "stdout",
     "output_type": "stream",
     "text": [
      "['__add__', '__class__', '__contains__', '__delattr__', '__dir__', '__doc__', '__eq__', '__format__', '__ge__', '__getattribute__', '__getitem__', '__getnewargs__', '__getstate__', '__gt__', '__hash__', '__init__', '__init_subclass__', '__iter__', '__le__', '__len__', '__lt__', '__mod__', '__mul__', '__ne__', '__new__', '__reduce__', '__reduce_ex__', '__repr__', '__rmod__', '__rmul__', '__setattr__', '__sizeof__', '__str__', '__subclasshook__', 'capitalize', 'casefold', 'center', 'count', 'encode', 'endswith', 'expandtabs', 'find', 'format', 'format_map', 'index', 'isalnum', 'isalpha', 'isascii', 'isdecimal', 'isdigit', 'isidentifier', 'islower', 'isnumeric', 'isprintable', 'isspace', 'istitle', 'isupper', 'join', 'ljust', 'lower', 'lstrip', 'maketrans', 'partition', 'removeprefix', 'removesuffix', 'replace', 'rfind', 'rindex', 'rjust', 'rpartition', 'rsplit', 'rstrip', 'split', 'splitlines', 'startswith', 'strip', 'swapcase', 'title', 'translate', 'upper', 'zfill']\n"
     ]
    }
   ],
   "source": [
    "word = \"priya\"\n",
    "\n",
    "print(dir(word))"
   ]
  },
  {
   "cell_type": "code",
   "execution_count": 33,
   "metadata": {
    "id": "HdlAWgT2dnKO"
   },
   "outputs": [
    {
     "name": "stdout",
     "output_type": "stream",
     "text": [
      "Peter Piper Picked A Peck Of Pickled Peppers.\n"
     ]
    }
   ],
   "source": [
    "#Write a python program to find below output using loop:-\n",
    "\n",
    "input_string =  'peter piper picked a peck of pickled peppers.'\n",
    "#Output:- 'Peter Piper Picked A Peck Of Pickled Peppers'\n",
    "\n",
    "\n",
    "words = input_string.split()\n",
    "\n",
    "# Initialize an empty list to hold the capitalized words\n",
    "capitalized_words = []\n",
    "\n",
    "# Loop through each word in the list\n",
    "for word in words:\n",
    "    # Capitalize the first letter of the word and add to the list\n",
    "    capitalized_words.append(word.capitalize())\n",
    "\n",
    "# Join the capitalized words into a single string with spaces\n",
    "output_string = ' '.join(capitalized_words)\n",
    "\n",
    "# Print the transformed string\n",
    "print(output_string)\n",
    "    "
   ]
  },
  {
   "cell_type": "code",
   "execution_count": 34,
   "metadata": {
    "id": "OthUuacodrNl"
   },
   "outputs": [
    {
     "name": "stdout",
     "output_type": "stream",
     "text": [
      "Peter piper picked a peck of pickled peppers\n"
     ]
    }
   ],
   "source": [
    "#Write a python program to find below output using loop:-\n",
    "\n",
    "#Input:- 'Peter Piper Picked A Peck Of Pickled Peppers.'\n",
    "#Output:- 'Peter piper picked a peck of pickled peppers'\n",
    "\n",
    "def transform_string(input_str):\n",
    "    # Convert the entire string to lowercase\n",
    "    lower_str = input_str.lower()\n",
    "    \n",
    "    # Capitalize the first letter\n",
    "    result_str = lower_str.capitalize()\n",
    "    \n",
    "    # Remove the final period\n",
    "    if result_str.endswith('.'):\n",
    "        result_str = result_str[:-1]\n",
    "    \n",
    "    return result_str\n",
    "\n",
    "# Input string\n",
    "input_str = 'Peter Piper Picked A Peck Of Pickled Peppers.'\n",
    "output_str = transform_string(input_str)\n",
    "\n",
    "print(output_str)"
   ]
  },
  {
   "cell_type": "code",
   "execution_count": 36,
   "metadata": {
    "colab": {
     "base_uri": "https://localhost:8080/",
     "height": 34
    },
    "id": "scmDJE-ldsI9",
    "outputId": "4b1d1979-9f4a-4bc6-c505-b88b1bbd4d5d"
   },
   "outputs": [
    {
     "name": "stdout",
     "output_type": "stream",
     "text": [
      "29\n"
     ]
    }
   ],
   "source": [
    "#Write a python program to implement index method using loop. If sub_str is found in my_str then it will print the index\n",
    "# of first occurrence of first character of matching string in my_str:-\n",
    "\n",
    "#Input:- my_str = 'Peter Piper Picked A Peck Of Pickled Peppers.', sub_str = 'Pickl'\n",
    "#Output:- 29\n",
    "\n",
    "def custom_index(my_str, sub_str):\n",
    "    # Lengths of the strings\n",
    "    len_my_str = len(my_str)\n",
    "    len_sub_str = len(sub_str)\n",
    "    \n",
    "    # Loop through my_str to find the first occurrence of sub_str\n",
    "    for i in range(len_my_str - len_sub_str + 1):\n",
    "        # Check if the substring from the current position matches sub_str\n",
    "        if my_str[i:i+len_sub_str] == sub_str:\n",
    "            return i\n",
    "    \n",
    "    # If sub_str is not found, return -1 (or you can raise an exception)\n",
    "    return -1\n",
    "\n",
    "# Input strings\n",
    "my_str = 'Peter Piper Picked A Peck Of Pickled Peppers.'\n",
    "sub_str = 'Pickl'\n",
    "\n",
    "# Get the index of the first occurrence of sub_str in my_str\n",
    "index = custom_index(my_str, sub_str)\n",
    "\n",
    "# Print the index\n",
    "print(index)\n",
    "\n"
   ]
  },
  {
   "cell_type": "code",
   "execution_count": 35,
   "metadata": {
    "id": "Kq_fwdb_dvYE"
   },
   "outputs": [
    {
     "name": "stdout",
     "output_type": "stream",
     "text": [
      "Peter Piper Picked A Pack Of Pickled Peppers.\n"
     ]
    }
   ],
   "source": [
    "#Write a python program to implement replace method using loop. If sub_str is found in my_str then it will replace the first \n",
    "#occurrence of sub_str with new_str else it will will print sub_str not found:-\n",
    "\n",
    "#Input:- my_str = 'Peter Piper Picked A Peck Of Pickled Peppers.', sub_str = 'Peck', new_str = 'Pack'\n",
    "#Output:- 'Peter Piper Picked A Pack Of Pickled Peppers.'\n",
    "\n",
    "def custom_replace(my_str, sub_str, new_str):\n",
    "    # Find the index of the first occurrence of sub_str in my_str\n",
    "    index = my_str.find(sub_str)\n",
    "    \n",
    "    # If sub_str is found in my_str\n",
    "    if index != -1:\n",
    "        # Replace the first occurrence of sub_str with new_str\n",
    "        result_str = my_str[:index] + new_str + my_str[index + len(sub_str):]\n",
    "        return result_str\n",
    "    else:\n",
    "        return f\"'{sub_str}' not found\"\n",
    "\n",
    "# Input strings\n",
    "my_str = 'Peter Piper Picked A Peck Of Pickled Peppers.'\n",
    "sub_str = 'Peck'\n",
    "new_str = 'Pack'\n",
    "\n",
    "# Get the output\n",
    "output_str = custom_replace(my_str, sub_str, new_str)\n",
    "\n",
    "# Print the output\n",
    "print(output_str)\n"
   ]
  },
  {
   "cell_type": "code",
   "execution_count": 37,
   "metadata": {
    "id": "4Qes5D0cdyd1"
   },
   "outputs": [
    {
     "name": "stdout",
     "output_type": "stream",
     "text": [
      "********************Peck*********************\n"
     ]
    }
   ],
   "source": [
    "#Write a python program to find below output (implements rjust and ljust) using loop:-\n",
    "\n",
    "#Input:- 'Peter Piper Picked A Peck Of Pickled Peppers.', sub_str = 'Peck', \n",
    "#Output:- '*********************Peck********************'\n",
    "\n",
    "def custom_rjust_ljust(my_str, sub_str):\n",
    "    total_length = len(my_str)\n",
    "    sub_str_length = len(sub_str)\n",
    "    \n",
    "    # Calculate the padding needed on each side\n",
    "    padding_length = (total_length - sub_str_length) // 2\n",
    "    \n",
    "    # Create the padded string\n",
    "    padded_str = ''\n",
    "    \n",
    "    # Add left padding\n",
    "    for i in range(padding_length):\n",
    "        padded_str += '*'\n",
    "    \n",
    "    # Add the sub_str\n",
    "    padded_str += sub_str\n",
    "    \n",
    "    # Add right padding\n",
    "    for i in range(total_length - padding_length - sub_str_length):\n",
    "        padded_str += '*'\n",
    "    \n",
    "    return padded_str\n",
    "\n",
    "# Input strings\n",
    "my_str = 'Peter Piper Picked A Peck Of Pickled Peppers.'\n",
    "sub_str = 'Peck'\n",
    "\n",
    "# Get the padded output\n",
    "output_str = custom_rjust_ljust(my_str, sub_str)\n",
    "\n",
    "# Print the output\n",
    "print(output_str)\n",
    "\n"
   ]
  },
  {
   "cell_type": "code",
   "execution_count": 40,
   "metadata": {
    "id": "DsOrb07Od0lR"
   },
   "outputs": [
    {
     "name": "stdout",
     "output_type": "stream",
     "text": [
      "['This', 'is', 'Python class']\n"
     ]
    }
   ],
   "source": [
    "#Write a python program to find below output using loop:-\n",
    "\n",
    "#input =  'This is Python class'\n",
    "#Output:- ['This', 'is', 'Python class']\n",
    "\n",
    "def custom_split(input_str, sep):\n",
    "    result = []\n",
    "    start = 0\n",
    "    index = input_str.find(sep)\n",
    "    \n",
    "    # Check if sep exists in the input_str\n",
    "    if index != -1:\n",
    "        # Split the string at the first occurrence of sep\n",
    "        result.append(input_str[:index])\n",
    "        result.append(sep.strip())\n",
    "        result.append(input_str[index + len(sep):].strip())\n",
    "    else:\n",
    "        # If sep is not found, return the whole input_str as the first element\n",
    "        result.append(input_str)\n",
    "    \n",
    "    return result\n",
    "\n",
    "# Input string and separator\n",
    "input_str = 'This is Python class'\n",
    "sep = ' is'\n",
    "\n",
    "# Get the output\n",
    "output_list = custom_split(input_str, sep)\n",
    "\n",
    "# Print the output list\n",
    "print(output_list)"
   ]
  },
  {
   "cell_type": "code",
   "execution_count": null,
   "metadata": {
    "id": "jRnBVufmd2Ay"
   },
   "outputs": [],
   "source": [
    "\n",
    "\n"
   ]
  }
 ],
 "metadata": {
  "colab": {
   "name": "Conditional_and_loop_assignment.ipynb",
   "provenance": []
  },
  "kernelspec": {
   "display_name": "Python 3 (ipykernel)",
   "language": "python",
   "name": "python3"
  },
  "language_info": {
   "codemirror_mode": {
    "name": "ipython",
    "version": 3
   },
   "file_extension": ".py",
   "mimetype": "text/x-python",
   "name": "python",
   "nbconvert_exporter": "python",
   "pygments_lexer": "ipython3",
   "version": "3.11.7"
  }
 },
 "nbformat": 4,
 "nbformat_minor": 4
}
