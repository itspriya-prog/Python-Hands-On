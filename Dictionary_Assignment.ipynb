{
 "cells": [
  {
   "cell_type": "markdown",
   "metadata": {
    "id": "2k4ZB9yltJCa"
   },
   "source": [
    "## Initialize a dictionary \"emp_info\" with below details\n",
    "\n"
   ]
  },
  {
   "cell_type": "code",
   "execution_count": 14,
   "metadata": {},
   "outputs": [
    {
     "name": "stdout",
     "output_type": "stream",
     "text": [
      "{'email': 'tom_latham019@gmail.com', 'Phone': 1987654321, 'city': 'California'}\n",
      "{'email': 'kathy_abram897@gmail.com', 'Phone': 1887654321, 'City': 'New York'}\n"
     ]
    }
   ],
   "source": [
    "\n",
    "# In - emp_info['Tom']\n",
    "# Out - {'email':'tom_latham019@gmail.com', 'Phone': +1987654321, 'City': 'California'}\n",
    "\n",
    "# In - emp_info['Kathy']\n",
    "# Out - {'email':'kathy_abram897@gmail.com', 'Phone': +1887654321, 'City': 'New York'}\n",
    "\n",
    "emp_info = { \"Tom\" : {\"email\":\"tom_latham019@gmail.com\",'Phone': +1987654321,  \"city\":\"California\"},\n",
    "            \"Kathy\" : {'email':'kathy_abram897@gmail.com', 'Phone': +1887654321, 'City': 'New York'}\n",
    "            }\n",
    "print(emp_info[\"Tom\"])\n",
    "print(emp_info[\"Kathy\"])"
   ]
  },
  {
   "cell_type": "markdown",
   "metadata": {},
   "source": [
    "## Create a dictionary out of below inputs"
   ]
  },
  {
   "cell_type": "code",
   "execution_count": 27,
   "metadata": {},
   "outputs": [
    {
     "name": "stdout",
     "output_type": "stream",
     "text": [
      "{'emp1': {'e_name': 'John', 'e_id': 'SG101', 'e_sal': '$10,000'}, 'emp2': {'e_name': 'Smith', 'e_id': 'SG102', 'e_sal': '$9,000'}, 'emp3': {'e_name': 'Peter', 'e_id': 'SG103', 'e_sal': '$9,500'}}\n"
     ]
    }
   ],
   "source": [
    "lst1 = ['emp1', 'emp2','emp3']\n",
    "emp_key = ['e_name', 'e_id', 'e_sal']\n",
    "emp1_val = ['John', 'SG101', '$10,000']\n",
    "emp2_val = ['Smith', 'SG102', '$9,000']\n",
    "emp3_val = ['Peter', 'SG103', '$9,500']\n",
    "\n",
    "# Expected Output:- {'emp1':{'e_name':'John', 'e_id':'SG101', 'e_sal':$10,000}, \n",
    "#                    'emp2':{'e_name':'Smith', 'e_id':'SG102', 'e_sal':$9,000}, \n",
    "#                    'emp3':{'e_name':'Peter', 'e_id':'SG103', 'e_sal':$9,500}}\n",
    "\n",
    "list_emp = [emp1_val,emp2_val,emp3_val]\n",
    "\n",
    "dict_emp = {\n",
    "    lst1[i]: {emp_key[j]: list_emp[i][j] for j in range(len(emp_key))} for i in range(len(lst1))\n",
    "}\n",
    "\n",
    "print(dict_emp)\n"
   ]
  },
  {
   "cell_type": "markdown",
   "metadata": {},
   "source": [
    "## Acess the value of key 'history'"
   ]
  },
  {
   "cell_type": "code",
   "execution_count": 25,
   "metadata": {
    "id": "LxGZ3jbjrBkj"
   },
   "outputs": [
    {
     "name": "stdout",
     "output_type": "stream",
     "text": [
      "80\n"
     ]
    }
   ],
   "source": [
    "\n",
    "\n",
    "sampleDict = { \n",
    "   \"class\":{ \n",
    "      \"student\":{ \n",
    "         \"name\":\"Mike\",\n",
    "         \"marks\":{ \n",
    "            \"physics\":70,\n",
    "            \"history\":80\n",
    "         }\n",
    "      }\n",
    "   }\n",
    "}\n",
    "\n",
    "print(sampleDict['class'][\"student\"][\"marks\"][\"history\"])\n"
   ]
  },
  {
   "cell_type": "markdown",
   "metadata": {},
   "source": [
    "## Initialize dictionary with default values. "
   ]
  },
  {
   "cell_type": "code",
   "execution_count": 52,
   "metadata": {
    "id": "Vm8UZbyNrKID"
   },
   "outputs": [
    {
     "name": "stdout",
     "output_type": "stream",
     "text": [
      "{'Kelly': {'designation': 'Application Developer', 'salary': 8000}, 'Emma': {'designation': 'Application Developer', 'salary': 8000}, 'John': {'designation': 'Application Developer', 'salary': 8000}}\n"
     ]
    }
   ],
   "source": [
    "# Inputs are:-\n",
    "employees = ['Kelly', 'Emma', 'John']\n",
    "defaults = {\"designation\": 'Application Developer', \"salary\": 8000}\n",
    "\n",
    "#Expected output:- {'Kelly': {'designation': 'Application Developer', 'salary': 8000}, \n",
    "#                   'Emma': {'designation': 'Application Developer', 'salary': 8000}, \n",
    "#                   'John': {'designation': 'Application Developer', 'salary': 8000}}\n",
    "\n",
    "out_dict = dict.fromkeys(employees,defaults)\n",
    "print(out_dict)\n"
   ]
  },
  {
   "cell_type": "markdown",
   "metadata": {},
   "source": [
    "## Write a function that returns the mRNA transcript given the sequence of a DNA strand"
   ]
  },
  {
   "cell_type": "code",
   "execution_count": 2,
   "metadata": {
    "id": "nmFdbaHBrThC"
   },
   "outputs": [
    {
     "name": "stdin",
     "output_type": "stream",
     "text": [
      "Enter the DNA sequence: UAG\n"
     ]
    },
    {
     "name": "stdout",
     "output_type": "stream",
     "text": [
      "ATC\n"
     ]
    }
   ],
   "source": [
    "# In gene expression, mRNA is transcribed from a DNA template. \n",
    "# The 4 nucleotide bases of A, T, C, G corresponds to the U, A, G, C bases of the mRNA. \n",
    "# Write a function that returns the mRNA transcript given the sequence of a DNA strand.\n",
    "\n",
    "# Use a dictionary to provide the mapping of DNA to RNA bases.\n",
    "\n",
    "def mRNA_transcript(str_dna):\n",
    "    dict={'U':'A','A':'T','G':'C','C':'G'}\n",
    "    mRNA = ''\n",
    "    for key in str_dna[::1]:\n",
    "       mRNA=mRNA + dict[key]\n",
    "    return mRNA\n",
    "\n",
    "\n",
    "str_dna = input(\"Enter the DNA sequence:\")\n",
    "print(mRNA_transcript(str_dna))\n",
    "\n",
    "\n"
   ]
  },
  {
   "cell_type": "markdown",
   "metadata": {},
   "source": [
    "## Write a function which takes a word as input and returns a dictionary with letters as key and no of time letters are repeated as value."
   ]
  },
  {
   "cell_type": "code",
   "execution_count": 8,
   "metadata": {
    "id": "rop1A1pQw6Uk"
   },
   "outputs": [
    {
     "name": "stdin",
     "output_type": "stream",
     "text": [
      "enter the word priyadarshini\n"
     ]
    },
    {
     "name": "stdout",
     "output_type": "stream",
     "text": [
      "{'p': 1, 'r': 2, 'i': 3, 'y': 1, 'a': 2, 'd': 1, 's': 1, 'h': 1, 'n': 1}\n"
     ]
    }
   ],
   "source": [
    "\n",
    "# In - count_letter('google.com')\n",
    "# Out - {'g': 2, 'o': 3, 'l': 1, 'e': 1, '.': 1, 'c': 1, 'm': 1}\n",
    "\n",
    "def count_letter(word):\n",
    "   \n",
    "    dict_count = {letter:word.count(letter) for letter in word}\n",
    "    return dict_count\n",
    "\n",
    "word = input(\"enter the word\")\n",
    "dict_count = count_letter(word)\n",
    "\n",
    "print(dict_count)"
   ]
  },
  {
   "cell_type": "markdown",
   "metadata": {},
   "source": [
    "## Write a function that computes the base composition of a given DNA sequence.\n",
    "\n",
    "Samples:\n",
    " In - {CTATCGGCACCCTTTCAGCA}\n",
    " Out - {'A': 4, 'C': 8, 'T': 5,  'G': 3 }\n",
    "    \n",
    " In - baseComposition(\"AGT\")\n",
    " Out - {'A': 1, 'C': 0, 'T': 1,  'G': 1 }\n",
    "\n",
    "\n",
    "\n",
    " In - baseComposition(\"CTATCGGCACCCTTTCAGCA\")\n",
    " Out - {'A': 4, 'C': 8, 'T': 5,  'G': 3 }\n",
    "    \n",
    " In - baseComposition(\"AGT\")\n",
    " Out - {'A': 1, 'C': 0, 'T': 1,  'G': 1 }"
   ]
  },
  {
   "cell_type": "code",
   "execution_count": 11,
   "metadata": {
    "id": "vAwGIoxdw856"
   },
   "outputs": [
    {
     "name": "stdin",
     "output_type": "stream",
     "text": [
      "enter the word AGT\n"
     ]
    },
    {
     "name": "stdout",
     "output_type": "stream",
     "text": [
      "{'A': 1, 'G': 1, 'T': 1}\n"
     ]
    }
   ],
   "source": [
    "\n",
    "def compute_baseComp(b_comp):\n",
    "    string = 'ATCG'\n",
    "    dict_count = {letter:b_comp.count(letter) for letter in string}\n",
    "    return dict_count\n",
    "\n",
    "word = input(\"enter the word\")\n",
    "dict_count = count_letter(word)\n",
    "\n",
    "print(dict_count)\n",
    "\n"
   ]
  },
  {
   "cell_type": "markdown",
   "metadata": {
    "id": "iVNnSsvaxMDo"
   },
   "source": [
    "# [MCQ] Suppose \"d\" is an empty dictionary, \n",
    "which statement does not assign \"d\" with {\"Name\":\"Tom\"}? \n",
    "# 1. d = {\"Name\": \"Tom\" }\n",
    "# 2. d[\"Name\"] = \"Tom\"\n",
    "# 3. d.update({\"Name\": \"Tom\" })\n",
    "# 4. d.setdefault(\"Name\", \"Tom\")\n",
    "# 5. None of the above.\n",
    "\n",
    "Answer : 5"
   ]
  },
  {
   "cell_type": "code",
   "execution_count": 7,
   "metadata": {},
   "outputs": [
    {
     "name": "stdout",
     "output_type": "stream",
     "text": [
      "{'Name': 'Tom'}\n"
     ]
    }
   ],
   "source": [
    "d = {}\n",
    "d.setdefault(\"Name\", \"Tom\")\n",
    "#d[\"Name\"] = \"Tom\"\n",
    "print(d)"
   ]
  },
  {
   "cell_type": "markdown",
   "metadata": {
    "id": "tOgsXi2axnhF"
   },
   "source": [
    "# [MCQ] d = {\"a\":1, \"b\":2}. Which of the statements returns [1,2]? \n",
    " 1. d.keys()\n",
    " 2. d.values()\n",
    " 3. d.items()\n",
    " 4. d.popitem()\n",
    " 5. None of the above.\n",
    "# Answer : 2"
   ]
  },
  {
   "cell_type": "markdown",
   "metadata": {
    "id": "BeNNopkDzK0k"
   },
   "source": [
    "# [MCQ] Which of the following declarations is not valid for 'dict' type?\n",
    " 1. d = {\"Name\": \"Tom\" }\n",
    " 2. d = { (1,3,4): 4.5 }\n",
    " 3. d = { [\"First\", \"Last\"]: (1,3) }\n",
    " 4. d = { 1: 0.4 }\n",
    " 5. None of the above\n",
    "\n",
    "# Answer 3"
   ]
  },
  {
   "cell_type": "markdown",
   "metadata": {},
   "source": [
    "## Write a function reverseLookup(dictionary, value)"
   ]
  },
  {
   "cell_type": "code",
   "execution_count": 5,
   "metadata": {
    "id": "7kPbKcfMzTHP"
   },
   "outputs": [],
   "source": [
    "# Write a function reverseLookup(dictionary, value) that takes in a dictionary \n",
    "# and a value as arguments and returns a sorted list of all keys that contains the value. \n",
    "# The function will return an empty list if no match is found.\n",
    "\n",
    "# In - reverseLookup({'a':1, 'b':2, 'c':2}, 1)\n",
    "# Out - ['a']\n",
    "# In - reverseLookup({'a':1, 'b':2, 'c':2}, 2)\n",
    "# Out - ['b', 'c']\n",
    "# In - reverseLookup({'a':1, 'b':2, 'c':2}, 3)\n",
    "# Out - []\n",
    "\n",
    "def reverseLookup(dictionary,valueIn):\n",
    "    keyList = []\n",
    "    i = 0\n",
    "    for key,value in dictionary.items():\n",
    "        if valueIn == value:\n",
    "            keyList.append(key)\n",
    "            i = i+1\n",
    "    return keyList       "
   ]
  },
  {
   "cell_type": "code",
   "execution_count": 8,
   "metadata": {},
   "outputs": [
    {
     "name": "stdout",
     "output_type": "stream",
     "text": [
      "[]\n"
     ]
    }
   ],
   "source": [
    "\n",
    "print(reverseLookup({'a':1, 'b':2, 'c':2}, 3))"
   ]
  },
  {
   "cell_type": "markdown",
   "metadata": {},
   "source": [
    "## Write a function invertDictionary(d)"
   ]
  },
  {
   "cell_type": "code",
   "execution_count": 50,
   "metadata": {},
   "outputs": [],
   "source": [
    "# Write a function invertDictionary(d) that takes in a dictionary as \n",
    "#argument and return a dictionary that inverts the keys \n",
    "#and the values of the original dictionary.\n",
    "# In - invertDictionary({'a':1, 'b':2, 'c':3, 'd':2})\n",
    "# Out - {1: ['a'], 2: ['b', 'd'], 3: ['c']}\n",
    "# In - invertDictionary({'a':3, 'b':3, 'c':3})\n",
    "# Out - {3: ['a', 'c', 'b']}\n",
    "# In - invertDictionary({'a':2, 'b':1, 'c':2, 'd':1})\n",
    "# Out - {1: ['b', 'd'], 2: ['a', 'c']}\n",
    "def invertDictionary(d):\n",
    "    inverted_dict = {}\n",
    "    for key, value in d.items():\n",
    "        if value in inverted_dict:\n",
    "            inverted_dict[value].append(key)\n",
    "        else:\n",
    "            inverted_dict[value] = [key]\n",
    "    return inverted_dict"
   ]
  },
  {
   "cell_type": "code",
   "execution_count": 51,
   "metadata": {},
   "outputs": [
    {
     "name": "stdout",
     "output_type": "stream",
     "text": [
      "{1: ['a'], 2: ['b', 'd'], 3: ['c']}\n"
     ]
    }
   ],
   "source": [
    "original_dict = {'a':1, 'b':2, 'c':3, 'd':2}\n",
    "inverted_dict = invertDictionary(original_dict)\n",
    "print(inverted_dict)"
   ]
  },
  {
   "cell_type": "markdown",
   "metadata": {},
   "source": [
    "## Write a function that converts a sparse vector into a dictionary"
   ]
  },
  {
   "cell_type": "code",
   "execution_count": 34,
   "metadata": {
    "id": "DgYyaZU6Oz7E"
   },
   "outputs": [],
   "source": [
    "# Write a function that converts a sparse vector into a dictionary as described above.\n",
    "# In - convertVector([1, 0, 0, 2, 0, 0, 0, 3, 0, 0, 0, 0, 4])\n",
    "# Out - {0: 1, 3: 2, 7: 3, 12: 4}\n",
    "# In - convertVector([1, 0, 1 , 0, 2, 0, 1, 0, 0, 1, 0])\n",
    "# Out - {0: 1, 2: 1, 4: 2, 6: 1, 9: 1}\n",
    "# In - convertVector([0, 0, 0, 0, 0])\n",
    "# Out - {}\n",
    "\n",
    "def convertVector(list):\n",
    "    return {i: value for i, value in enumerate(list) if value !=0}\n",
    "        \n",
    "\n",
    "    \n"
   ]
  },
  {
   "cell_type": "code",
   "execution_count": 35,
   "metadata": {},
   "outputs": [
    {
     "data": {
      "text/plain": [
       "{0: 1, 3: 2, 7: 3, 12: 4}"
      ]
     },
     "execution_count": 35,
     "metadata": {},
     "output_type": "execute_result"
    }
   ],
   "source": [
    "convertVector([1, 0, 0, 2, 0, 0, 0, 3, 0, 0, 0, 0, 4])"
   ]
  },
  {
   "cell_type": "markdown",
   "metadata": {},
   "source": [
    "## Write a function that converts a dictionary back to its sparse vector representation."
   ]
  },
  {
   "cell_type": "code",
   "execution_count": 27,
   "metadata": {
    "id": "ETCmEcflTGCI"
   },
   "outputs": [],
   "source": [
    "# Write a function that converts a dictionary back to its sparse vector representation.\n",
    "# In - convertDictionary({0: 1, 3: 2, 7: 3, 12: 4})\n",
    "# Out - [1, 0, 0, 2, 0, 0, 0, 3, 0, 0, 0, 0, 4]\n",
    "# In - convertDictionary({0: 1, 2: 1, 4: 2, 6: 1, 9: 1})\n",
    "# Out - [1, 0, 1, 0, 2, 0, 1, 0, 0, 1]\n",
    "# In - convertDictionary({})\n",
    "# Out - []\n",
    "\n",
    "def convertDictionary(dict):\n",
    "    key = list(dict)\n",
    "    length = max(key)+1\n",
    "    sparse_vector = [0] * length\n",
    "\n",
    "    for index,value in dict.items():\n",
    "        sparse_vector[index] = value\n",
    "    return sparse_vector\n",
    "\n",
    "\n"
   ]
  },
  {
   "cell_type": "code",
   "execution_count": 28,
   "metadata": {},
   "outputs": [
    {
     "data": {
      "text/plain": [
       "[1, 0, 0, 2, 0, 0, 0, 3, 0, 0, 0, 0, 4]"
      ]
     },
     "execution_count": 28,
     "metadata": {},
     "output_type": "execute_result"
    }
   ],
   "source": [
    "convertDictionary({0: 1, 3: 2, 7: 3, 12: 4})"
   ]
  },
  {
   "cell_type": "markdown",
   "metadata": {},
   "source": [
    "## Given a Python dictionary, Change Brad’s salary to 8500"
   ]
  },
  {
   "cell_type": "code",
   "execution_count": 12,
   "metadata": {
    "id": "tTANm2QKZXh3"
   },
   "outputs": [
    {
     "name": "stdout",
     "output_type": "stream",
     "text": [
      "{'emp1': {'name': 'Jhon', 'salary': 7500}, 'emp2': {'name': 'Emma', 'salary': 8000}, 'emp3': {'name': 'Brad', 'salary': 8500}}\n"
     ]
    }
   ],
   "source": [
    "\n",
    "sampleDict = {\n",
    "     'emp1': {'name': 'Jhon', 'salary': 7500},\n",
    "      'emp2': {'name': 'Emma', 'salary': 8000},\n",
    "      'emp3': {'name': 'Brad', 'salary': 6500}\n",
    " }\n",
    "\n",
    "# Expected Output\n",
    "# sampleDict = {\n",
    "#      'emp1': {'name': 'Jhon', 'salary': 7500},\n",
    "#      'emp2': {'name': 'Emma', 'salary': 8000},\n",
    "#      'emp3': {'name': 'Brad', 'salary': 8500}\n",
    "# }\n",
    "\n",
    "sampleDict['emp3']['salary'] = 8500\n",
    "print(sampleDict)\n",
    "\n"
   ]
  },
  {
   "cell_type": "code",
   "execution_count": 26,
   "metadata": {
    "id": "8dUHXiCVZmUx"
   },
   "outputs": [
    {
     "name": "stdout",
     "output_type": "stream",
     "text": [
      "Physics\n",
      "15\n"
     ]
    }
   ],
   "source": [
    "# Get the key corresponding to the minimum value from the following dictionary\n",
    "sampleDict = {\n",
    "  'Physics': 15,\n",
    "   'Math': 65,\n",
    "   'history': 75\n",
    " }\n",
    "\n",
    "# Expected Output\n",
    "# Math\n",
    "\n",
    "\n",
    "min_value = 1000\n",
    "items = sampleDict.items()\n",
    "index = -1\n",
    "subject = \"\"\n",
    "for item in items:\n",
    "\n",
    "    if item[1] < min_value:\n",
    "        min_value = item[1]\n",
    "        subject = item[0]\n",
    "\n",
    "print(subject)\n",
    "print(min_value)\n",
    "    \n"
   ]
  },
  {
   "cell_type": "markdown",
   "metadata": {},
   "source": [
    "## Rename key city to location in the following dictionary"
   ]
  },
  {
   "cell_type": "code",
   "execution_count": 2,
   "metadata": {
    "id": "AQe5QNGdZ7aJ"
   },
   "outputs": [
    {
     "name": "stdout",
     "output_type": "stream",
     "text": [
      "{'name': 'Kelly', 'age': 25, 'salary': 8000, 'location': 'New york'}\n"
     ]
    }
   ],
   "source": [
    "\n",
    "sampleDict = {\n",
    "  \"name\": \"Kelly\",\n",
    "   \"age\":25,\n",
    "   \"salary\": 8000,\n",
    "   \"city\": \"New york\"\n",
    "}\n",
    "\n",
    "sampleDict['location'] = sampleDict.pop('city')\n",
    "\n",
    "print(sampleDict)\n",
    "\n",
    "# Expected Output\n",
    "# {\n",
    "#   \"name\": \"Kelly\",\n",
    "#   \"age\":25,\n",
    "#   \"salary\": 8000,\n",
    "#   \"location\": \"New york\"\n",
    "# }"
   ]
  },
  {
   "cell_type": "markdown",
   "metadata": {},
   "source": [
    "## Check if a value 500 exists in a dictionary"
   ]
  },
  {
   "cell_type": "code",
   "execution_count": 13,
   "metadata": {
    "id": "e19_ddO9aNNw"
   },
   "outputs": [
    {
     "name": "stdout",
     "output_type": "stream",
     "text": [
      "False\n"
     ]
    }
   ],
   "source": [
    "\n",
    "sampleDict = {'a': 100, 'b': 200, 'c': 300}\n",
    "\n",
    "items = sampleDict.values()\n",
    "\n",
    "if 500 in items:\n",
    "    print(\"True\")\n",
    "else:\n",
    "    print(\"False\")\n"
   ]
  },
  {
   "cell_type": "markdown",
   "metadata": {},
   "source": [
    "## Delete set of keys from Python Dictionary"
   ]
  },
  {
   "cell_type": "code",
   "execution_count": 36,
   "metadata": {
    "id": "yphwjc1gabMa"
   },
   "outputs": [
    {
     "name": "stdout",
     "output_type": "stream",
     "text": [
      "Dictionary after removal of keys : {'age': 25, 'city': 'New york'}\n"
     ]
    }
   ],
   "source": [
    "\n",
    "sampleDict = {\n",
    "   \"name\": \"Kelly\",\n",
    "   \"age\":25,\n",
    "  \"salary\": 8000,\n",
    "  \"city\": \"New york\"  \n",
    " }\n",
    "keysToRemove = [\"name\", \"salary\"]\n",
    "\n",
    "for key in keysToRemove:\n",
    "    del sampleDict[key]\n",
    " \n",
    "# printing result\n",
    "print(\"Dictionary after removal of keys : \" + str(sampleDict))\n",
    "\n",
    "# Expected Output:\n",
    "# {'city': 'New york', 'age': 25}"
   ]
  },
  {
   "cell_type": "code",
   "execution_count": null,
   "metadata": {},
   "outputs": [],
   "source": []
  }
 ],
 "metadata": {
  "colab": {
   "name": "Dictionary_Assignment.ipynb",
   "provenance": []
  },
  "kernelspec": {
   "display_name": "Python 3 (ipykernel)",
   "language": "python",
   "name": "python3"
  },
  "language_info": {
   "codemirror_mode": {
    "name": "ipython",
    "version": 3
   },
   "file_extension": ".py",
   "mimetype": "text/x-python",
   "name": "python",
   "nbconvert_exporter": "python",
   "pygments_lexer": "ipython3",
   "version": "3.11.7"
  }
 },
 "nbformat": 4,
 "nbformat_minor": 4
}
