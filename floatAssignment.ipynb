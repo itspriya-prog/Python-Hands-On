{
 "cells": [
  {
   "cell_type": "markdown",
   "id": "81b3ed49-2541-4f9d-a468-32c20a0b1d28",
   "metadata": {},
   "source": [
    "# Q. Declare a float value and store it in a variable.\n",
    "Check the type and print the id of the same."
   ]
  },
  {
   "cell_type": "code",
   "execution_count": 1,
   "id": "9a72b50a-9a78-4afd-b876-6b162b8bff5c",
   "metadata": {},
   "outputs": [
    {
     "name": "stdout",
     "output_type": "stream",
     "text": [
      "1564508549424\n",
      "<class 'float'>\n"
     ]
    }
   ],
   "source": [
    "floatVar = 10.67\n",
    "print(id(floatVar))\n",
    "print(type(floatVar))\n",
    "\n"
   ]
  },
  {
   "cell_type": "markdown",
   "id": "3a4bc82f-7395-437c-8f7d-d729a5bf754e",
   "metadata": {},
   "source": [
    "# Q. Arithmetic Operations on float\n",
    "Take two different float values.\n",
    "Store them in two different variables."
   ]
  },
  {
   "cell_type": "code",
   "execution_count": 2,
   "id": "56604999-8109-445c-9018-dd4a2e7bc172",
   "metadata": {},
   "outputs": [
    {
     "name": "stdout",
     "output_type": "stream",
     "text": [
      "*******sum**********\n",
      "5.7\n",
      "*******Difference**********\n",
      "0.7000000000000002\n",
      "*******Product**********\n",
      "8.0\n",
      "*******Divide**********\n",
      "1.28\n",
      "*******Remainder**********\n",
      "0.7000000000000002\n",
      "*******Quotient**********\n",
      "1.28\n",
      "*******Power**********\n",
      "18.31786887167828\n"
     ]
    }
   ],
   "source": [
    "# Find sum of both numbers\n",
    "a = 3.2\n",
    "b = 2.5\n",
    "sum = a + b\n",
    "print(\"*******sum**********\")\n",
    "print(sum)\n",
    "\n",
    "# Find difference between them\n",
    "print(\"*******Difference**********\")\n",
    "diff = a - b\n",
    "print(diff)\n",
    "\n",
    "# Find the product of both numbers\n",
    "print(\"*******Product**********\")\n",
    "product = a * b\n",
    "print(product)\n",
    "\n",
    "# Find value after dividing first num with second number\n",
    "print(\"*******Divide**********\")\n",
    "div = a/b\n",
    "print(div)\n",
    "\n",
    "# Find the remainder after dividing first number with second number\n",
    "print(\"*******Remainder**********\")\n",
    "rem = a%b\n",
    "print(rem)\n",
    "\n",
    "# Find the quotient after dividing first number with second number\n",
    "print(\"*******Quotient**********\")\n",
    "print(div)\n",
    "\n",
    "# Find the result of the first num to the power of the second number\n",
    "\n",
    "power = a**b\n",
    "print(\"*******Power**********\")\n",
    "print(power)\n"
   ]
  },
  {
   "cell_type": "markdown",
   "id": "929335b3-77f2-43a5-a074-1d15a0bd4bce",
   "metadata": {},
   "source": [
    "# Q. Comparison Operators on float\n",
    "Take two different float values.\n",
    "Store them in two different variables."
   ]
  },
  {
   "cell_type": "code",
   "execution_count": 3,
   "id": "c4934748-1529-4d0c-b7e5-d34900f716cc",
   "metadata": {},
   "outputs": [
    {
     "name": "stdout",
     "output_type": "stream",
     "text": [
      "*******Greater than, '>'**********\n",
      "False\n",
      "*******Smaller than, '<'**********\n",
      "True\n",
      "*******Greater than or equal to, '>='**********\n",
      "False\n",
      "*******Less than or equal to, '<='**********\n",
      "True\n"
     ]
    }
   ],
   "source": [
    " # Greater than, '>'\n",
    "\n",
    "\n",
    "a = 5.6\n",
    "b = 10.78\n",
    "\n",
    "print(\"*******Greater than, '>'**********\")\n",
    "print(a>b)\n",
    "\n",
    "print(\"*******Smaller than, '<'**********\")\n",
    "print(a<b)\n",
    "\n",
    "print(\"*******Greater than or equal to, '>='**********\")\n",
    "print(a>=b)\n",
    "\n",
    "print(\"*******Less than or equal to, '<='**********\")\n",
    "print(a<=b)"
   ]
  },
  {
   "cell_type": "markdown",
   "id": "69eeef94-457c-4fca-b849-121ddb64738c",
   "metadata": {},
   "source": [
    "# Q. Equality Operator\r\n",
    "Take two different float values.\r\n",
    "Store them in two different variables.\r\n",
    "Equate them using equality operators (==, !=)"
   ]
  },
  {
   "cell_type": "code",
   "execution_count": 4,
   "id": "1802a65e-b9a5-44ba-9dd4-949b7f4556bb",
   "metadata": {},
   "outputs": [
    {
     "name": "stdout",
     "output_type": "stream",
     "text": [
      "***********Equality Operator (==)**********\n",
      "False\n",
      "***********Equality Operator (!=)**********\n",
      "True\n"
     ]
    }
   ],
   "source": [
    "a = 4.5\n",
    "b = 4.9\n",
    "\n",
    "print(\"***********Equality Operator (==)**********\")\n",
    "print(a==b)\n",
    "\n",
    "print(\"***********Equality Operator (!=)**********\")\n",
    "print(a!=b)"
   ]
  },
  {
   "cell_type": "markdown",
   "id": "853266a7-3e20-4f31-9f0b-0c00c832ddb3",
   "metadata": {},
   "source": [
    "# Q. Logical operators\r\n",
    "Observe the output of below code\r\n",
    "Cross check the output manually"
   ]
  },
  {
   "cell_type": "code",
   "execution_count": 9,
   "id": "4de7a93f-281f-4b86-ac6c-56f2ab7432d1",
   "metadata": {},
   "outputs": [
    {
     "name": "stdout",
     "output_type": "stream",
     "text": [
      "*****and operator*******\n",
      "20.3\n",
      "0.0\n",
      "0.0\n",
      "0.0\n",
      "*****or operator*******\n",
      "10.2\n",
      "20.3\n",
      "20.3\n",
      "0.0\n",
      "******* not *****\n",
      "False\n",
      "True\n"
     ]
    }
   ],
   "source": [
    "print(\"*****and operator*******\");\n",
    "print(10.20 and 20.30)\n",
    "print(0.0 and 20.30)\n",
    "print(20.30 and 0.0)\n",
    "print(0.0 and 0.0)\n",
    "\n",
    "print(\"*****or operator*******\");\n",
    "# or operator\n",
    "print(10.20 or 20.30)\n",
    "print(0.0 or 20.30)\n",
    "print(20.30 or 0.0)\n",
    "print(0.0 or 0.0)\n",
    "\n",
    "print(\"******* not *****\")\n",
    "print(not 10.20)\n",
    "print(not 0.0)"
   ]
  },
  {
   "cell_type": "markdown",
   "id": "65be4cfe-d98a-4907-be03-d262c6ef701d",
   "metadata": {},
   "source": [
    "# Q. What is the output of expression inside print statement. \n",
    "Cross check \n",
    "before running the program."
   ]
  },
  {
   "cell_type": "code",
   "execution_count": 10,
   "id": "8ef2b9c3-566f-4a93-bead-2d336c3b2525",
   "metadata": {},
   "outputs": [
    {
     "name": "stdout",
     "output_type": "stream",
     "text": [
      "False\n",
      "True\n"
     ]
    }
   ],
   "source": [
    "a = 10.20\n",
    "b - 10.20\n",
    "print(a is b)\n",
    "print(a is not b)\n"
   ]
  },
  {
   "cell_type": "markdown",
   "id": "9b88284c-9260-4fa2-92e7-361ab0410b0a",
   "metadata": {},
   "source": [
    "Why the Id of float values are different when the same value is assigned to two different variables"
   ]
  },
  {
   "cell_type": "code",
   "execution_count": 12,
   "id": "b80d5aea-6946-413d-8227-7482753b1969",
   "metadata": {},
   "outputs": [
    {
     "name": "stdout",
     "output_type": "stream",
     "text": [
      " Id of float values are different when the same value is assigned to two different variables BEcause of object reusability is not applicable in case of flot variables when  same value is assigned to two different variable\n"
     ]
    }
   ],
   "source": [
    "print(\" Id of float values are different when the same value is assigned to two different variables BEcause of object reusability is not applicable in case of flot variables when  same value is assigned to two different variable\")"
   ]
  },
  {
   "cell_type": "markdown",
   "id": "e850a495-c784-4e87-b010-595a02d0351f",
   "metadata": {},
   "source": [
    "# Q. Membership operation\r\n",
    "in, not in are two membership operators and it returns boolean value"
   ]
  },
  {
   "cell_type": "code",
   "execution_count": 13,
   "id": "ce3cc5f2-3801-485d-8bdd-efe0e2a39770",
   "metadata": {},
   "outputs": [
    {
     "name": "stdout",
     "output_type": "stream",
     "text": [
      "True\n",
      "True\n",
      "True\n",
      "True\n",
      "True\n",
      "True\n"
     ]
    }
   ],
   "source": [
    "print ( '2.7' in 'Python2.7.8' )\n",
    "print(10.20 in [10,10.20,10+20j,'Python'])\n",
    "print(10.20 in (10,10.20,10+20j,'Python'))\n",
    "print(20.30 in {1,20.30,30+40j})\n",
    "print(2.3 in {1:100, 2.3:200, 30+40j:300})\n",
    "print(10 in range(20))"
   ]
  },
  {
   "cell_type": "code",
   "execution_count": null,
   "id": "894a3728-6051-4f9d-ba4c-4806c7aa5a8c",
   "metadata": {},
   "outputs": [],
   "source": []
  }
 ],
 "metadata": {
  "kernelspec": {
   "display_name": "Python 3 (ipykernel)",
   "language": "python",
   "name": "python3"
  },
  "language_info": {
   "codemirror_mode": {
    "name": "ipython",
    "version": 3
   },
   "file_extension": ".py",
   "mimetype": "text/x-python",
   "name": "python",
   "nbconvert_exporter": "python",
   "pygments_lexer": "ipython3",
   "version": "3.11.7"
  }
 },
 "nbformat": 4,
 "nbformat_minor": 5
}
